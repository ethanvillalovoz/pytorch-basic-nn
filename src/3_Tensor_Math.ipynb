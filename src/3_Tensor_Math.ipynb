{
 "cells": [
  {
   "cell_type": "markdown",
   "id": "91fa5d7e",
   "metadata": {},
   "source": [
    "# Introduction to Tensor Math Operations\n",
    "\n",
    "Tensor math operations are fundamental in PyTorch for manipulating data and building neural networks. This notebook covers basic arithmetic, in-place operations, broadcasting, aggregation, and logical operations on tensors."
   ]
  },
  {
   "cell_type": "markdown",
   "id": "77ebc80d",
   "metadata": {},
   "source": [
    "- Add, Subtract, Multiply, Divide, Remainders, Exponents\n",
    "\n",
    "- Shorthand and Longhand\n",
    "\n",
    "- Reassignment"
   ]
  },
  {
   "cell_type": "markdown",
   "id": "280f8546",
   "metadata": {},
   "source": [
    "## Shorthand vs Longhand Operations\n",
    "\n",
    "| Operation      | Shorthand      | Longhand Function      |\n",
    "|---------------|---------------|-----------------------|\n",
    "| Addition      | `a + b`       | `torch.add(a, b)`     |\n",
    "| Subtraction   | `a - b`       | `torch.sub(a, b)`     |\n",
    "| Multiplication| `a * b`       | `torch.mul(a, b)`     |\n",
    "| Division      | `a / b`       | `torch.div(a, b)`     |\n",
    "| Modulus       | `a % b`       | `torch.remainder(a,b)`|\n",
    "| Power         | `a ** b`      | `torch.pow(a, b)`     |"
   ]
  },
  {
   "cell_type": "code",
   "execution_count": 1,
   "id": "709d6715",
   "metadata": {},
   "outputs": [],
   "source": [
    "import torch\n",
    "import numpy as np"
   ]
  },
  {
   "cell_type": "code",
   "execution_count": 2,
   "id": "2b9e1180",
   "metadata": {},
   "outputs": [],
   "source": [
    "tensor_a = torch.tensor([1, 2, 3, 4, 5])\n",
    "tensor_b = torch.tensor([6, 7, 8, 9, 10])"
   ]
  },
  {
   "cell_type": "code",
   "execution_count": 3,
   "id": "53e2cc51",
   "metadata": {},
   "outputs": [
    {
     "name": "stdout",
     "output_type": "stream",
     "text": [
      "Addition: tensor([ 7,  9, 11, 13, 15])\n"
     ]
    }
   ],
   "source": [
    "# Addition\n",
    "tensor_add = tensor_a + tensor_b\n",
    "print(\"Addition:\", tensor_add)"
   ]
  },
  {
   "cell_type": "code",
   "execution_count": 4,
   "id": "c15650dc",
   "metadata": {},
   "outputs": [
    {
     "name": "stdout",
     "output_type": "stream",
     "text": [
      "Addition Longhand: tensor([ 7,  9, 11, 13, 15])\n"
     ]
    }
   ],
   "source": [
    "# Addition Longhand\n",
    "tensor_add_long = torch.add(tensor_a, tensor_b)\n",
    "print(\"Addition Longhand:\", tensor_add_long)"
   ]
  },
  {
   "cell_type": "code",
   "execution_count": 5,
   "id": "5c055ab4",
   "metadata": {},
   "outputs": [
    {
     "name": "stdout",
     "output_type": "stream",
     "text": [
      "Subtraction: tensor([-5, -5, -5, -5, -5])\n"
     ]
    }
   ],
   "source": [
    "# Subtraction\n",
    "tensor_sub = tensor_a - tensor_b\n",
    "print(\"Subtraction:\", tensor_sub)"
   ]
  },
  {
   "cell_type": "code",
   "execution_count": 6,
   "id": "8f863807",
   "metadata": {},
   "outputs": [
    {
     "name": "stdout",
     "output_type": "stream",
     "text": [
      "Subtraction Longhand: tensor([-5, -5, -5, -5, -5])\n"
     ]
    }
   ],
   "source": [
    "# Subtraction Longhand\n",
    "tensor_sub_long = torch.sub(tensor_a, tensor_b)\n",
    "print(\"Subtraction Longhand:\", tensor_sub_long)"
   ]
  },
  {
   "cell_type": "code",
   "execution_count": 7,
   "id": "f5ef779c",
   "metadata": {},
   "outputs": [
    {
     "name": "stdout",
     "output_type": "stream",
     "text": [
      "Multiplication: tensor([ 6, 14, 24, 36, 50])\n"
     ]
    }
   ],
   "source": [
    "# Multiplication\n",
    "tensor_mul = tensor_a * tensor_b\n",
    "print(\"Multiplication:\", tensor_mul)"
   ]
  },
  {
   "cell_type": "code",
   "execution_count": 8,
   "id": "6fc6c04e",
   "metadata": {},
   "outputs": [
    {
     "name": "stdout",
     "output_type": "stream",
     "text": [
      "Multiplication Longhand: tensor([ 6, 14, 24, 36, 50])\n"
     ]
    }
   ],
   "source": [
    "# Multiplication Longhand\n",
    "tensor_mul_long = torch.mul(tensor_a, tensor_b)\n",
    "print(\"Multiplication Longhand:\", tensor_mul_long)"
   ]
  },
  {
   "cell_type": "code",
   "execution_count": 9,
   "id": "f4a788c4",
   "metadata": {},
   "outputs": [
    {
     "name": "stdout",
     "output_type": "stream",
     "text": [
      "Division: tensor([0.1667, 0.2857, 0.3750, 0.4444, 0.5000])\n"
     ]
    }
   ],
   "source": [
    "# Division\n",
    "tensor_div = tensor_a / tensor_b\n",
    "print(\"Division:\", tensor_div)"
   ]
  },
  {
   "cell_type": "code",
   "execution_count": 10,
   "id": "0c257117",
   "metadata": {},
   "outputs": [
    {
     "name": "stdout",
     "output_type": "stream",
     "text": [
      "Division Longhand: tensor([0.1667, 0.2857, 0.3750, 0.4444, 0.5000])\n"
     ]
    }
   ],
   "source": [
    "# Division Longhand\n",
    "tensor_div_long = torch.div(tensor_a, tensor_b)\n",
    "print(\"Division Longhand:\", tensor_div_long)"
   ]
  },
  {
   "cell_type": "code",
   "execution_count": 11,
   "id": "26544480",
   "metadata": {},
   "outputs": [
    {
     "name": "stdout",
     "output_type": "stream",
     "text": [
      "Remainder Modulus: tensor([0, 1, 2, 1, 0])\n"
     ]
    }
   ],
   "source": [
    "# Remainder Modulus\n",
    "tensor_mod = tensor_b % tensor_a\n",
    "print(\"Remainder Modulus:\", tensor_mod)"
   ]
  },
  {
   "cell_type": "code",
   "execution_count": 12,
   "id": "a80d5c51",
   "metadata": {},
   "outputs": [
    {
     "name": "stdout",
     "output_type": "stream",
     "text": [
      "Remainder Modulus Longhand: tensor([0, 1, 2, 1, 0])\n"
     ]
    }
   ],
   "source": [
    "# Remaider Modulus Longhand\n",
    "tensor_mod_long = torch.remainder(tensor_b, tensor_a)\n",
    "print(\"Remainder Modulus Longhand:\", tensor_mod_long)"
   ]
  },
  {
   "cell_type": "code",
   "execution_count": 13,
   "id": "1fa4dd20",
   "metadata": {},
   "outputs": [
    {
     "name": "stdout",
     "output_type": "stream",
     "text": [
      "Exponentiation / Power: tensor([ 1,  4,  9, 16, 25])\n"
     ]
    }
   ],
   "source": [
    "# Exponentiation / Power\n",
    "tensor_pow = tensor_a**2\n",
    "print(\"Exponentiation / Power:\", tensor_pow)"
   ]
  },
  {
   "cell_type": "code",
   "execution_count": 14,
   "id": "455fcaa1",
   "metadata": {},
   "outputs": [
    {
     "name": "stdout",
     "output_type": "stream",
     "text": [
      "Exponentiation / Power Longhand: tensor([ 1,  4,  9, 16, 25])\n"
     ]
    }
   ],
   "source": [
    "# Exponentiation / Power Longhand\n",
    "tensor_pow_long = torch.pow(tensor_a, 2)\n",
    "print(\"Exponentiation / Power Longhand:\", tensor_pow_long)"
   ]
  },
  {
   "cell_type": "code",
   "execution_count": 16,
   "id": "01f5c2e9",
   "metadata": {},
   "outputs": [
    {
     "name": "stdout",
     "output_type": "stream",
     "text": [
      "Addition: tensor([1, 2, 3, 4, 5])\n"
     ]
    }
   ],
   "source": [
    "# Another way to write longhand operations\n",
    "tensor_a.add(tensor_b)\n",
    "print(\"Addition:\", tensor_a)"
   ]
  },
  {
   "cell_type": "markdown",
   "id": "f8681e03",
   "metadata": {},
   "source": [
    "## In-place Operations\n",
    "\n",
    "In-place operations modify the original tensor and are denoted by a trailing underscore (e.g., `add_`). Use with caution, as they can overwrite data and affect computation graphs in autograd."
   ]
  },
  {
   "cell_type": "code",
   "execution_count": 18,
   "id": "5bbf2cef",
   "metadata": {},
   "outputs": [
    {
     "data": {
      "text/plain": [
       "tensor([ 7,  9, 11, 13, 15])"
      ]
     },
     "execution_count": 18,
     "metadata": {},
     "output_type": "execute_result"
    }
   ],
   "source": [
    "# Resassigning tensor_a to tensor_b\n",
    "tensor_a + tensor_b"
   ]
  },
  {
   "cell_type": "code",
   "execution_count": 19,
   "id": "553bae68",
   "metadata": {},
   "outputs": [
    {
     "data": {
      "text/plain": [
       "tensor([1, 2, 3, 4, 5])"
      ]
     },
     "execution_count": 19,
     "metadata": {},
     "output_type": "execute_result"
    }
   ],
   "source": [
    "tensor_a"
   ]
  },
  {
   "cell_type": "code",
   "execution_count": 20,
   "id": "44d9001f",
   "metadata": {},
   "outputs": [
    {
     "name": "stdout",
     "output_type": "stream",
     "text": [
      "In-place Addition: tensor([ 7,  9, 11, 13, 15])\n"
     ]
    }
   ],
   "source": [
    "# tensor_a = tensor_a + tensor_b\n",
    "tensor_a.add_(tensor_b)\n",
    "print(\"In-place Addition:\", tensor_a)"
   ]
  },
  {
   "cell_type": "code",
   "execution_count": 21,
   "id": "30083767",
   "metadata": {},
   "outputs": [
    {
     "data": {
      "text/plain": [
       "tensor([ 7,  9, 11, 13, 15])"
      ]
     },
     "execution_count": 21,
     "metadata": {},
     "output_type": "execute_result"
    }
   ],
   "source": [
    "tensor_a"
   ]
  },
  {
   "cell_type": "markdown",
   "id": "7394eae9",
   "metadata": {},
   "source": [
    "# Summary\n",
    "\n",
    "- You learned about basic and advanced tensor math operations in PyTorch.\n",
    "- Covered shorthand/longhand and in-place\n",
    "- These operations are essential for data manipulation and neural network computations."
   ]
  }
 ],
 "metadata": {
  "kernelspec": {
   "display_name": "pytorch",
   "language": "python",
   "name": "python3"
  },
  "language_info": {
   "codemirror_mode": {
    "name": "ipython",
    "version": 3
   },
   "file_extension": ".py",
   "mimetype": "text/x-python",
   "name": "python",
   "nbconvert_exporter": "python",
   "pygments_lexer": "ipython3",
   "version": "3.10.18"
  }
 },
 "nbformat": 4,
 "nbformat_minor": 5
}
