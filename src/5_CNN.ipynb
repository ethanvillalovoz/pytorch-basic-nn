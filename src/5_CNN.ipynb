{
 "cells": [
  {
   "cell_type": "code",
   "execution_count": null,
   "id": "dd6cd62d",
   "metadata": {},
   "outputs": [],
   "source": [
    "import torch \n",
    "import torch.nn as nn\n",
    "import torch.nn.functional as F\n",
    "from torch.utils.data import DataLoader\n",
    "from torchvision import datasets, transforms\n",
    "from torchvision.utils import make_grid\n",
    "\n",
    "import numpy as np\n",
    "import pandas as pd\n",
    "from sklearn.metrics import confusion_matrix\n",
    "import matplotlib.pyplot as plt\n",
    "%matplotlib inline"
   ]
  },
  {
   "cell_type": "code",
   "execution_count": 4,
   "id": "55fb7853",
   "metadata": {},
   "outputs": [],
   "source": [
    "# Convert MNIST dataset to PyTorch tensors of 4-Dimensions (# of images, # of channels, height, width)\n",
    "transform = transforms.ToTensor()"
   ]
  },
  {
   "cell_type": "code",
   "execution_count": 5,
   "id": "4414a7c5",
   "metadata": {},
   "outputs": [
    {
     "name": "stderr",
     "output_type": "stream",
     "text": [
      "100.0%\n",
      "100.0%\n",
      "100.0%\n",
      "100.0%\n",
      "100.0%\n",
      "100.0%\n",
      "100.0%\n",
      "100.0%\n"
     ]
    }
   ],
   "source": [
    "# Train and test datasets\n",
    "train_dataset = datasets.MNIST(root='MNIST_train_data', train=True, download=True, transform=transform)\n",
    "test_dataset = datasets.MNIST(root='MNIST_test_data', train=False, download=True, transform=transform)"
   ]
  },
  {
   "cell_type": "code",
   "execution_count": 8,
   "id": "aa520edc",
   "metadata": {},
   "outputs": [
    {
     "data": {
      "text/plain": [
       "Dataset MNIST\n",
       "    Number of datapoints: 60000\n",
       "    Root location: MNIST_train_data\n",
       "    Split: Train\n",
       "    StandardTransform\n",
       "Transform: ToTensor()"
      ]
     },
     "execution_count": 8,
     "metadata": {},
     "output_type": "execute_result"
    }
   ],
   "source": [
    "train_dataset"
   ]
  },
  {
   "cell_type": "code",
   "execution_count": 9,
   "id": "345d4bc8",
   "metadata": {},
   "outputs": [
    {
     "data": {
      "text/plain": [
       "Dataset MNIST\n",
       "    Number of datapoints: 10000\n",
       "    Root location: MNIST_test_data\n",
       "    Split: Test\n",
       "    StandardTransform\n",
       "Transform: ToTensor()"
      ]
     },
     "execution_count": 9,
     "metadata": {},
     "output_type": "execute_result"
    }
   ],
   "source": [
    "test_dataset"
   ]
  },
  {
   "cell_type": "code",
   "execution_count": 11,
   "id": "cb265620",
   "metadata": {},
   "outputs": [],
   "source": [
    "# Create a small batch size for images\n",
    "batch_size = 10\n",
    "train_loader = DataLoader(dataset=train_dataset, batch_size=batch_size, shuffle=True)\n",
    "test_loader = DataLoader(dataset=test_dataset, batch_size=batch_size, shuffle=False)"
   ]
  },
  {
   "cell_type": "code",
   "execution_count": 12,
   "id": "17c6b461",
   "metadata": {},
   "outputs": [],
   "source": [
    "# Define the CNN model\n",
    "# Describe convolutional layers and what it's doing (2 convolutional layers)\n",
    "conv1 = nn.Conv2d(in_channels=1, out_channels=6, kernel_size=3, stride=1)  # 1 input channel (grayscale), 6 output channels\n",
    "conv2 = nn.Conv2d(in_channels=6, out_channels=16, kernel_size=3, stride=1)  # 6 input channels, 16 output channels"
   ]
  },
  {
   "cell_type": "code",
   "execution_count": 13,
   "id": "29bdd647",
   "metadata": {},
   "outputs": [],
   "source": [
    "# Grab 1 MNIST image/record\n",
    "for i, (X_Train, y_Train) in enumerate(train_dataset):\n",
    "    break"
   ]
  },
  {
   "cell_type": "code",
   "execution_count": 16,
   "id": "f51d8717",
   "metadata": {},
   "outputs": [
    {
     "data": {
      "text/plain": [
       "torch.Size([1, 28, 28])"
      ]
     },
     "execution_count": 16,
     "metadata": {},
     "output_type": "execute_result"
    }
   ],
   "source": [
    "X_Train.shape  # Shape of the image tensor (1, 28, 28) - 1 channel, 28x28 pixels"
   ]
  },
  {
   "cell_type": "code",
   "execution_count": 17,
   "id": "e670f4ad",
   "metadata": {},
   "outputs": [],
   "source": [
    "x = X_Train.view(1, 1, 28, 28)  # Reshape to (batch_size, channels, height, width)"
   ]
  },
  {
   "cell_type": "code",
   "execution_count": 19,
   "id": "ae62f15a",
   "metadata": {},
   "outputs": [],
   "source": [
    "# Perform our first convolution\n",
    "x = F.relu(conv1(x))  # Apply ReLU activation function"
   ]
  },
  {
   "cell_type": "code",
   "execution_count": 21,
   "id": "8c46f837",
   "metadata": {},
   "outputs": [
    {
     "data": {
      "text/plain": [
       "torch.Size([1, 6, 26, 26])"
      ]
     },
     "execution_count": 21,
     "metadata": {},
     "output_type": "execute_result"
    }
   ],
   "source": [
    "x.shape  # Shape after first convolution (1, 6, 26, 26) - 6 channels, 26x26 pixels"
   ]
  },
  {
   "cell_type": "code",
   "execution_count": 22,
   "id": "8c6c877c",
   "metadata": {},
   "outputs": [],
   "source": [
    "# pass through pooling layer\n",
    "x = F.max_pool2d(x, kernel_size=2, stride=2)"
   ]
  },
  {
   "cell_type": "code",
   "execution_count": 23,
   "id": "749ece65",
   "metadata": {},
   "outputs": [
    {
     "data": {
      "text/plain": [
       "torch.Size([1, 6, 13, 13])"
      ]
     },
     "execution_count": 23,
     "metadata": {},
     "output_type": "execute_result"
    }
   ],
   "source": [
    "x.shape  # Shape after pooling (1, 6, 13, 13) - 6 channels, 13x13 pixels"
   ]
  },
  {
   "cell_type": "code",
   "execution_count": 24,
   "id": "00f79307",
   "metadata": {},
   "outputs": [],
   "source": [
    "# Do the second convolution\n",
    "x = F.relu(conv2(x))  # Apply ReLU activation function"
   ]
  },
  {
   "cell_type": "code",
   "execution_count": 25,
   "id": "c7dab821",
   "metadata": {},
   "outputs": [
    {
     "data": {
      "text/plain": [
       "torch.Size([1, 16, 11, 11])"
      ]
     },
     "execution_count": 25,
     "metadata": {},
     "output_type": "execute_result"
    }
   ],
   "source": [
    "x.shape  # Shape after pooling (1, 6, 13, 13) - 6 channels, 13x13 pixels"
   ]
  },
  {
   "cell_type": "code",
   "execution_count": 26,
   "id": "36a63b94",
   "metadata": {},
   "outputs": [],
   "source": [
    "# Pool the second convolution\n",
    "x = F.max_pool2d(x, kernel_size=2, stride=2)"
   ]
  },
  {
   "cell_type": "code",
   "execution_count": 27,
   "id": "7a35f6fc",
   "metadata": {},
   "outputs": [
    {
     "data": {
      "text/plain": [
       "torch.Size([1, 16, 5, 5])"
      ]
     },
     "execution_count": 27,
     "metadata": {},
     "output_type": "execute_result"
    }
   ],
   "source": [
    "x.shape  # Shape after pooling (1, 6, 13, 13) - 6 channels, 13x13 pixels"
   ]
  },
  {
   "cell_type": "code",
   "execution_count": 28,
   "id": "ed8e1f61",
   "metadata": {},
   "outputs": [],
   "source": [
    "# Model Class\n",
    "class CNNModel(nn.Module):\n",
    "    def __init__(self):\n",
    "        super(CNNModel, self).__init__()\n",
    "        self.conv1 = nn.Conv2d(in_channels=1, out_channels=6, kernel_size=3, stride=1)\n",
    "        self.conv2 = nn.Conv2d(in_channels=6, out_channels=16, kernel_size=3, stride=1)\n",
    "\n",
    "        # Fully connected layers\n",
    "        self.fc1 = nn.Linear(16 * 5 * 5, 120)\n",
    "        self.fc2 = nn.Linear(120, 84)\n",
    "        self.fc3 = nn.Linear(84, 10)  # 10 output classes\n",
    "\n",
    "    def forward(self, x):\n",
    "        x = F.relu(self.conv1(x))\n",
    "        x = F.max_pool2d(x, kernel_size=2, stride=2)\n",
    "        x = F.relu(self.conv2(x))\n",
    "        x = F.max_pool2d(x, kernel_size=2, stride=2)\n",
    "\n",
    "        # Flatten the tensor\n",
    "        x = x.view(-1, 16 * 5 * 5) # negative one means \"infer batch size automatically\"\n",
    "\n",
    "        # Fully connected layers\n",
    "        x = F.relu(self.fc1(x))\n",
    "        x = F.relu(self.fc2(x))\n",
    "        x = self.fc3(x)\n",
    "\n",
    "        return F.log_softmax(x, dim=1)  # Log softmax for multi-class classification"
   ]
  },
  {
   "cell_type": "code",
   "execution_count": 30,
   "id": "8c6f2b7e",
   "metadata": {},
   "outputs": [
    {
     "data": {
      "text/plain": [
       "CNNModel(\n",
       "  (conv1): Conv2d(1, 6, kernel_size=(3, 3), stride=(1, 1))\n",
       "  (conv2): Conv2d(6, 16, kernel_size=(3, 3), stride=(1, 1))\n",
       "  (fc1): Linear(in_features=400, out_features=120, bias=True)\n",
       "  (fc2): Linear(in_features=120, out_features=84, bias=True)\n",
       "  (fc3): Linear(in_features=84, out_features=10, bias=True)\n",
       ")"
      ]
     },
     "execution_count": 30,
     "metadata": {},
     "output_type": "execute_result"
    }
   ],
   "source": [
    "# Create an instance of the model\n",
    "torch.manual_seed(42)  # For reproducibility\n",
    "model = CNNModel()\n",
    "model"
   ]
  },
  {
   "cell_type": "code",
   "execution_count": 32,
   "id": "29bee378",
   "metadata": {},
   "outputs": [],
   "source": [
    "# Loss function and optimizer\n",
    "criterion = nn.CrossEntropyLoss()  # Cross-entropy loss for multi-class classification\n",
    "optimizer = torch.optim.Adam(model.parameters(), lr=0.001)  # Adam optimizer\n",
    "# Note: the smaller the learning rate, the slower the model will learn"
   ]
  }
 ],
 "metadata": {
  "kernelspec": {
   "display_name": "pytorch",
   "language": "python",
   "name": "python3"
  },
  "language_info": {
   "codemirror_mode": {
    "name": "ipython",
    "version": 3
   },
   "file_extension": ".py",
   "mimetype": "text/x-python",
   "name": "python",
   "nbconvert_exporter": "python",
   "pygments_lexer": "ipython3",
   "version": "3.10.18"
  }
 },
 "nbformat": 4,
 "nbformat_minor": 5
}
