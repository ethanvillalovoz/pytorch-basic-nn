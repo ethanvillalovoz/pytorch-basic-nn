{
 "cells": [
  {
   "cell_type": "code",
   "execution_count": null,
   "id": "dd6cd62d",
   "metadata": {},
   "outputs": [],
   "source": [
    "import torch \n",
    "import torch.nn as nn\n",
    "import torch.nn.functional as F\n",
    "from torch.utils.data import DataLoader\n",
    "from torchvision import datasets, transforms\n",
    "from torchvision.utils import make_grid\n",
    "\n",
    "import numpy as np\n",
    "import pandas as pd\n",
    "from sklearn.metrics import confusion_matrix\n",
    "import matplotlib.pyplot as plt\n",
    "%matplotlib inline"
   ]
  },
  {
   "cell_type": "code",
   "execution_count": 4,
   "id": "55fb7853",
   "metadata": {},
   "outputs": [],
   "source": [
    "# Convert MNIST dataset to PyTorch tensors of 4-Dimensions (# of images, # of channels, height, width)\n",
    "transform = transforms.ToTensor()"
   ]
  },
  {
   "cell_type": "code",
   "execution_count": 5,
   "id": "4414a7c5",
   "metadata": {},
   "outputs": [
    {
     "name": "stderr",
     "output_type": "stream",
     "text": [
      "100.0%\n",
      "100.0%\n",
      "100.0%\n",
      "100.0%\n",
      "100.0%\n",
      "100.0%\n",
      "100.0%\n",
      "100.0%\n"
     ]
    }
   ],
   "source": [
    "# Train and test datasets\n",
    "train_dataset = datasets.MNIST(root='MNIST_train_data', train=True, download=True, transform=transform)\n",
    "test_dataset = datasets.MNIST(root='MNIST_test_data', train=False, download=True, transform=transform)"
   ]
  },
  {
   "cell_type": "code",
   "execution_count": 8,
   "id": "aa520edc",
   "metadata": {},
   "outputs": [
    {
     "data": {
      "text/plain": [
       "Dataset MNIST\n",
       "    Number of datapoints: 60000\n",
       "    Root location: MNIST_train_data\n",
       "    Split: Train\n",
       "    StandardTransform\n",
       "Transform: ToTensor()"
      ]
     },
     "execution_count": 8,
     "metadata": {},
     "output_type": "execute_result"
    }
   ],
   "source": [
    "train_dataset"
   ]
  },
  {
   "cell_type": "code",
   "execution_count": 9,
   "id": "345d4bc8",
   "metadata": {},
   "outputs": [
    {
     "data": {
      "text/plain": [
       "Dataset MNIST\n",
       "    Number of datapoints: 10000\n",
       "    Root location: MNIST_test_data\n",
       "    Split: Test\n",
       "    StandardTransform\n",
       "Transform: ToTensor()"
      ]
     },
     "execution_count": 9,
     "metadata": {},
     "output_type": "execute_result"
    }
   ],
   "source": [
    "test_dataset"
   ]
  },
  {
   "cell_type": "code",
   "execution_count": 11,
   "id": "cb265620",
   "metadata": {},
   "outputs": [],
   "source": [
    "# Create a small batch size for images\n",
    "batch_size = 10\n",
    "train_loader = DataLoader(dataset=train_dataset, batch_size=batch_size, shuffle=True)\n",
    "test_loader = DataLoader(dataset=test_dataset, batch_size=batch_size, shuffle=False)"
   ]
  },
  {
   "cell_type": "code",
   "execution_count": 12,
   "id": "17c6b461",
   "metadata": {},
   "outputs": [],
   "source": [
    "# Define the CNN model\n",
    "# Describe convolutional layers and what it's doing (2 convolutional layers)\n",
    "conv1 = nn.Conv2d(in_channels=1, out_channels=6, kernel_size=3, stride=1)  # 1 input channel (grayscale), 6 output channels\n",
    "conv2 = nn.Conv2d(in_channels=6, out_channels=16, kernel_size=3, stride=1)  # 6 input channels, 16 output channels"
   ]
  },
  {
   "cell_type": "code",
   "execution_count": 13,
   "id": "29bdd647",
   "metadata": {},
   "outputs": [],
   "source": [
    "# Grab 1 MNIST image/record\n",
    "for i, (X_Train, y_Train) in enumerate(train_dataset):\n",
    "    break"
   ]
  },
  {
   "cell_type": "code",
   "execution_count": 16,
   "id": "f51d8717",
   "metadata": {},
   "outputs": [
    {
     "data": {
      "text/plain": [
       "torch.Size([1, 28, 28])"
      ]
     },
     "execution_count": 16,
     "metadata": {},
     "output_type": "execute_result"
    }
   ],
   "source": [
    "X_Train.shape  # Shape of the image tensor (1, 28, 28) - 1 channel, 28x28 pixels"
   ]
  },
  {
   "cell_type": "code",
   "execution_count": 17,
   "id": "e670f4ad",
   "metadata": {},
   "outputs": [],
   "source": [
    "x = X_Train.view(1, 1, 28, 28)  # Reshape to (batch_size, channels, height, width)"
   ]
  },
  {
   "cell_type": "code",
   "execution_count": 19,
   "id": "ae62f15a",
   "metadata": {},
   "outputs": [],
   "source": [
    "# Perform our first convolution\n",
    "x = F.relu(conv1(x))  # Apply ReLU activation function"
   ]
  },
  {
   "cell_type": "code",
   "execution_count": 21,
   "id": "8c46f837",
   "metadata": {},
   "outputs": [
    {
     "data": {
      "text/plain": [
       "torch.Size([1, 6, 26, 26])"
      ]
     },
     "execution_count": 21,
     "metadata": {},
     "output_type": "execute_result"
    }
   ],
   "source": [
    "x.shape  # Shape after first convolution (1, 6, 26, 26) - 6 channels, 26x26 pixels"
   ]
  },
  {
   "cell_type": "code",
   "execution_count": 22,
   "id": "8c6c877c",
   "metadata": {},
   "outputs": [],
   "source": [
    "# pass through pooling layer\n",
    "x = F.max_pool2d(x, kernel_size=2, stride=2)"
   ]
  },
  {
   "cell_type": "code",
   "execution_count": 23,
   "id": "749ece65",
   "metadata": {},
   "outputs": [
    {
     "data": {
      "text/plain": [
       "torch.Size([1, 6, 13, 13])"
      ]
     },
     "execution_count": 23,
     "metadata": {},
     "output_type": "execute_result"
    }
   ],
   "source": [
    "x.shape  # Shape after pooling (1, 6, 13, 13) - 6 channels, 13x13 pixels"
   ]
  },
  {
   "cell_type": "code",
   "execution_count": 24,
   "id": "00f79307",
   "metadata": {},
   "outputs": [],
   "source": [
    "# Do the second convolution\n",
    "x = F.relu(conv2(x))  # Apply ReLU activation function"
   ]
  },
  {
   "cell_type": "code",
   "execution_count": 25,
   "id": "c7dab821",
   "metadata": {},
   "outputs": [
    {
     "data": {
      "text/plain": [
       "torch.Size([1, 16, 11, 11])"
      ]
     },
     "execution_count": 25,
     "metadata": {},
     "output_type": "execute_result"
    }
   ],
   "source": [
    "x.shape  # Shape after pooling (1, 6, 13, 13) - 6 channels, 13x13 pixels"
   ]
  },
  {
   "cell_type": "code",
   "execution_count": 26,
   "id": "36a63b94",
   "metadata": {},
   "outputs": [],
   "source": [
    "# Pool the second convolution\n",
    "x = F.max_pool2d(x, kernel_size=2, stride=2)"
   ]
  },
  {
   "cell_type": "code",
   "execution_count": 27,
   "id": "7a35f6fc",
   "metadata": {},
   "outputs": [
    {
     "data": {
      "text/plain": [
       "torch.Size([1, 16, 5, 5])"
      ]
     },
     "execution_count": 27,
     "metadata": {},
     "output_type": "execute_result"
    }
   ],
   "source": [
    "x.shape  # Shape after pooling (1, 6, 13, 13) - 6 channels, 13x13 pixels"
   ]
  },
  {
   "cell_type": "code",
   "execution_count": 28,
   "id": "ed8e1f61",
   "metadata": {},
   "outputs": [],
   "source": [
    "# Model Class\n",
    "class CNNModel(nn.Module):\n",
    "    def __init__(self):\n",
    "        super(CNNModel, self).__init__()\n",
    "        self.conv1 = nn.Conv2d(in_channels=1, out_channels=6, kernel_size=3, stride=1)\n",
    "        self.conv2 = nn.Conv2d(in_channels=6, out_channels=16, kernel_size=3, stride=1)\n",
    "\n",
    "        # Fully connected layers\n",
    "        self.fc1 = nn.Linear(16 * 5 * 5, 120)\n",
    "        self.fc2 = nn.Linear(120, 84)\n",
    "        self.fc3 = nn.Linear(84, 10)  # 10 output classes\n",
    "\n",
    "    def forward(self, x):\n",
    "        x = F.relu(self.conv1(x))\n",
    "        x = F.max_pool2d(x, kernel_size=2, stride=2)\n",
    "        x = F.relu(self.conv2(x))\n",
    "        x = F.max_pool2d(x, kernel_size=2, stride=2)\n",
    "\n",
    "        # Flatten the tensor\n",
    "        x = x.view(-1, 16 * 5 * 5) # negative one means \"infer batch size automatically\"\n",
    "\n",
    "        # Fully connected layers\n",
    "        x = F.relu(self.fc1(x))\n",
    "        x = F.relu(self.fc2(x))\n",
    "        x = self.fc3(x)\n",
    "\n",
    "        return F.log_softmax(x, dim=1)  # Log softmax for multi-class classification"
   ]
  },
  {
   "cell_type": "code",
   "execution_count": 30,
   "id": "8c6f2b7e",
   "metadata": {},
   "outputs": [
    {
     "data": {
      "text/plain": [
       "CNNModel(\n",
       "  (conv1): Conv2d(1, 6, kernel_size=(3, 3), stride=(1, 1))\n",
       "  (conv2): Conv2d(6, 16, kernel_size=(3, 3), stride=(1, 1))\n",
       "  (fc1): Linear(in_features=400, out_features=120, bias=True)\n",
       "  (fc2): Linear(in_features=120, out_features=84, bias=True)\n",
       "  (fc3): Linear(in_features=84, out_features=10, bias=True)\n",
       ")"
      ]
     },
     "execution_count": 30,
     "metadata": {},
     "output_type": "execute_result"
    }
   ],
   "source": [
    "# Create an instance of the model\n",
    "torch.manual_seed(42)  # For reproducibility\n",
    "model = CNNModel()\n",
    "model"
   ]
  },
  {
   "cell_type": "code",
   "execution_count": 32,
   "id": "29bee378",
   "metadata": {},
   "outputs": [],
   "source": [
    "# Loss function and optimizer\n",
    "criterion = nn.CrossEntropyLoss()  # Cross-entropy loss for multi-class classification\n",
    "optimizer = torch.optim.Adam(model.parameters(), lr=0.001)  # Adam optimizer\n",
    "# Note: the smaller the learning rate, the slower the model will learn"
   ]
  },
  {
   "cell_type": "code",
   "execution_count": 33,
   "id": "599f1cbe",
   "metadata": {},
   "outputs": [
    {
     "name": "stdout",
     "output_type": "stream",
     "text": [
      "Epoch [1/5], Step [100/6000], Loss: 1.3506, Accuracy: 60.00%\n",
      "Epoch [1/5], Step [200/6000], Loss: 0.7213, Accuracy: 90.00%\n",
      "Epoch [1/5], Step [300/6000], Loss: 0.1584, Accuracy: 100.00%\n",
      "Epoch [1/5], Step [400/6000], Loss: 0.2831, Accuracy: 90.00%\n",
      "Epoch [1/5], Step [500/6000], Loss: 0.4556, Accuracy: 90.00%\n",
      "Epoch [1/5], Step [600/6000], Loss: 0.0473, Accuracy: 100.00%\n",
      "Epoch [1/5], Step [700/6000], Loss: 0.0729, Accuracy: 100.00%\n",
      "Epoch [1/5], Step [800/6000], Loss: 0.0470, Accuracy: 100.00%\n",
      "Epoch [1/5], Step [900/6000], Loss: 0.1686, Accuracy: 90.00%\n",
      "Epoch [1/5], Step [1000/6000], Loss: 0.9199, Accuracy: 90.00%\n",
      "Epoch [1/5], Step [1100/6000], Loss: 0.0574, Accuracy: 100.00%\n",
      "Epoch [1/5], Step [1200/6000], Loss: 0.0734, Accuracy: 100.00%\n",
      "Epoch [1/5], Step [1300/6000], Loss: 0.7641, Accuracy: 80.00%\n",
      "Epoch [1/5], Step [1400/6000], Loss: 0.5926, Accuracy: 80.00%\n",
      "Epoch [1/5], Step [1500/6000], Loss: 0.4661, Accuracy: 80.00%\n",
      "Epoch [1/5], Step [1600/6000], Loss: 0.6574, Accuracy: 80.00%\n",
      "Epoch [1/5], Step [1700/6000], Loss: 0.0378, Accuracy: 100.00%\n",
      "Epoch [1/5], Step [1800/6000], Loss: 0.3261, Accuracy: 80.00%\n",
      "Epoch [1/5], Step [1900/6000], Loss: 0.1014, Accuracy: 100.00%\n",
      "Epoch [1/5], Step [2000/6000], Loss: 0.2856, Accuracy: 90.00%\n",
      "Epoch [1/5], Step [2100/6000], Loss: 0.0309, Accuracy: 100.00%\n",
      "Epoch [1/5], Step [2200/6000], Loss: 0.0565, Accuracy: 100.00%\n",
      "Epoch [1/5], Step [2300/6000], Loss: 0.0308, Accuracy: 100.00%\n",
      "Epoch [1/5], Step [2400/6000], Loss: 0.0267, Accuracy: 100.00%\n",
      "Epoch [1/5], Step [2500/6000], Loss: 0.0350, Accuracy: 100.00%\n",
      "Epoch [1/5], Step [2600/6000], Loss: 0.1953, Accuracy: 90.00%\n",
      "Epoch [1/5], Step [2700/6000], Loss: 0.0197, Accuracy: 100.00%\n",
      "Epoch [1/5], Step [2800/6000], Loss: 0.0070, Accuracy: 100.00%\n",
      "Epoch [1/5], Step [2900/6000], Loss: 0.0396, Accuracy: 100.00%\n",
      "Epoch [1/5], Step [3000/6000], Loss: 0.0066, Accuracy: 100.00%\n",
      "Epoch [1/5], Step [3100/6000], Loss: 0.0012, Accuracy: 100.00%\n",
      "Epoch [1/5], Step [3200/6000], Loss: 0.0086, Accuracy: 100.00%\n",
      "Epoch [1/5], Step [3300/6000], Loss: 0.3015, Accuracy: 90.00%\n",
      "Epoch [1/5], Step [3400/6000], Loss: 0.1582, Accuracy: 90.00%\n",
      "Epoch [1/5], Step [3500/6000], Loss: 0.0231, Accuracy: 100.00%\n",
      "Epoch [1/5], Step [3600/6000], Loss: 0.0016, Accuracy: 100.00%\n",
      "Epoch [1/5], Step [3700/6000], Loss: 0.0092, Accuracy: 100.00%\n",
      "Epoch [1/5], Step [3800/6000], Loss: 0.0416, Accuracy: 100.00%\n",
      "Epoch [1/5], Step [3900/6000], Loss: 0.6278, Accuracy: 90.00%\n",
      "Epoch [1/5], Step [4000/6000], Loss: 0.0012, Accuracy: 100.00%\n",
      "Epoch [1/5], Step [4100/6000], Loss: 0.0017, Accuracy: 100.00%\n",
      "Epoch [1/5], Step [4200/6000], Loss: 0.4583, Accuracy: 90.00%\n",
      "Epoch [1/5], Step [4300/6000], Loss: 0.2798, Accuracy: 80.00%\n",
      "Epoch [1/5], Step [4400/6000], Loss: 0.1856, Accuracy: 90.00%\n",
      "Epoch [1/5], Step [4500/6000], Loss: 0.0064, Accuracy: 100.00%\n",
      "Epoch [1/5], Step [4600/6000], Loss: 0.0095, Accuracy: 100.00%\n",
      "Epoch [1/5], Step [4700/6000], Loss: 0.0132, Accuracy: 100.00%\n",
      "Epoch [1/5], Step [4800/6000], Loss: 0.0559, Accuracy: 100.00%\n",
      "Epoch [1/5], Step [4900/6000], Loss: 0.0043, Accuracy: 100.00%\n",
      "Epoch [1/5], Step [5000/6000], Loss: 0.0276, Accuracy: 100.00%\n",
      "Epoch [1/5], Step [5100/6000], Loss: 0.0045, Accuracy: 100.00%\n",
      "Epoch [1/5], Step [5200/6000], Loss: 0.0050, Accuracy: 100.00%\n",
      "Epoch [1/5], Step [5300/6000], Loss: 0.0979, Accuracy: 100.00%\n",
      "Epoch [1/5], Step [5400/6000], Loss: 0.0081, Accuracy: 100.00%\n",
      "Epoch [1/5], Step [5500/6000], Loss: 0.0867, Accuracy: 90.00%\n",
      "Epoch [1/5], Step [5600/6000], Loss: 0.0072, Accuracy: 100.00%\n",
      "Epoch [1/5], Step [5700/6000], Loss: 0.3110, Accuracy: 90.00%\n",
      "Epoch [1/5], Step [5800/6000], Loss: 0.0187, Accuracy: 100.00%\n",
      "Epoch [1/5], Step [5900/6000], Loss: 0.3611, Accuracy: 80.00%\n",
      "Epoch [1/5], Step [6000/6000], Loss: 0.0499, Accuracy: 100.00%\n",
      "Epoch [2/5], Step [100/6000], Loss: 0.0021, Accuracy: 100.00%\n",
      "Epoch [2/5], Step [200/6000], Loss: 0.0005, Accuracy: 100.00%\n",
      "Epoch [2/5], Step [300/6000], Loss: 0.0005, Accuracy: 100.00%\n",
      "Epoch [2/5], Step [400/6000], Loss: 0.0020, Accuracy: 100.00%\n",
      "Epoch [2/5], Step [500/6000], Loss: 0.1549, Accuracy: 90.00%\n",
      "Epoch [2/5], Step [600/6000], Loss: 0.0319, Accuracy: 100.00%\n",
      "Epoch [2/5], Step [700/6000], Loss: 0.3380, Accuracy: 90.00%\n",
      "Epoch [2/5], Step [800/6000], Loss: 0.5192, Accuracy: 80.00%\n",
      "Epoch [2/5], Step [900/6000], Loss: 0.0141, Accuracy: 100.00%\n",
      "Epoch [2/5], Step [1000/6000], Loss: 0.0007, Accuracy: 100.00%\n",
      "Epoch [2/5], Step [1100/6000], Loss: 0.3331, Accuracy: 90.00%\n",
      "Epoch [2/5], Step [1200/6000], Loss: 0.0232, Accuracy: 100.00%\n",
      "Epoch [2/5], Step [1300/6000], Loss: 0.0458, Accuracy: 100.00%\n",
      "Epoch [2/5], Step [1400/6000], Loss: 0.0007, Accuracy: 100.00%\n",
      "Epoch [2/5], Step [1500/6000], Loss: 0.0040, Accuracy: 100.00%\n",
      "Epoch [2/5], Step [1600/6000], Loss: 0.0258, Accuracy: 100.00%\n",
      "Epoch [2/5], Step [1700/6000], Loss: 0.0246, Accuracy: 100.00%\n",
      "Epoch [2/5], Step [1800/6000], Loss: 0.0017, Accuracy: 100.00%\n",
      "Epoch [2/5], Step [1900/6000], Loss: 0.0868, Accuracy: 100.00%\n",
      "Epoch [2/5], Step [2000/6000], Loss: 0.0016, Accuracy: 100.00%\n",
      "Epoch [2/5], Step [2100/6000], Loss: 0.0033, Accuracy: 100.00%\n",
      "Epoch [2/5], Step [2200/6000], Loss: 0.0052, Accuracy: 100.00%\n",
      "Epoch [2/5], Step [2300/6000], Loss: 0.0065, Accuracy: 100.00%\n",
      "Epoch [2/5], Step [2400/6000], Loss: 0.1247, Accuracy: 90.00%\n",
      "Epoch [2/5], Step [2500/6000], Loss: 0.0114, Accuracy: 100.00%\n",
      "Epoch [2/5], Step [2600/6000], Loss: 0.0177, Accuracy: 100.00%\n",
      "Epoch [2/5], Step [2700/6000], Loss: 0.4236, Accuracy: 90.00%\n",
      "Epoch [2/5], Step [2800/6000], Loss: 0.0131, Accuracy: 100.00%\n",
      "Epoch [2/5], Step [2900/6000], Loss: 0.0199, Accuracy: 100.00%\n",
      "Epoch [2/5], Step [3000/6000], Loss: 0.2461, Accuracy: 90.00%\n",
      "Epoch [2/5], Step [3100/6000], Loss: 0.0022, Accuracy: 100.00%\n",
      "Epoch [2/5], Step [3200/6000], Loss: 0.0031, Accuracy: 100.00%\n",
      "Epoch [2/5], Step [3300/6000], Loss: 0.0016, Accuracy: 100.00%\n",
      "Epoch [2/5], Step [3400/6000], Loss: 0.0074, Accuracy: 100.00%\n",
      "Epoch [2/5], Step [3500/6000], Loss: 0.0039, Accuracy: 100.00%\n",
      "Epoch [2/5], Step [3600/6000], Loss: 0.0003, Accuracy: 100.00%\n",
      "Epoch [2/5], Step [3700/6000], Loss: 0.0035, Accuracy: 100.00%\n",
      "Epoch [2/5], Step [3800/6000], Loss: 0.0277, Accuracy: 100.00%\n",
      "Epoch [2/5], Step [3900/6000], Loss: 0.0004, Accuracy: 100.00%\n",
      "Epoch [2/5], Step [4000/6000], Loss: 0.0845, Accuracy: 100.00%\n",
      "Epoch [2/5], Step [4100/6000], Loss: 0.0082, Accuracy: 100.00%\n",
      "Epoch [2/5], Step [4200/6000], Loss: 0.0004, Accuracy: 100.00%\n",
      "Epoch [2/5], Step [4300/6000], Loss: 0.0813, Accuracy: 90.00%\n",
      "Epoch [2/5], Step [4400/6000], Loss: 0.0093, Accuracy: 100.00%\n",
      "Epoch [2/5], Step [4500/6000], Loss: 0.0027, Accuracy: 100.00%\n",
      "Epoch [2/5], Step [4600/6000], Loss: 0.0020, Accuracy: 100.00%\n",
      "Epoch [2/5], Step [4700/6000], Loss: 0.0015, Accuracy: 100.00%\n",
      "Epoch [2/5], Step [4800/6000], Loss: 0.0015, Accuracy: 100.00%\n",
      "Epoch [2/5], Step [4900/6000], Loss: 0.0186, Accuracy: 100.00%\n",
      "Epoch [2/5], Step [5000/6000], Loss: 0.0081, Accuracy: 100.00%\n",
      "Epoch [2/5], Step [5100/6000], Loss: 0.0032, Accuracy: 100.00%\n",
      "Epoch [2/5], Step [5200/6000], Loss: 0.0003, Accuracy: 100.00%\n",
      "Epoch [2/5], Step [5300/6000], Loss: 0.0118, Accuracy: 100.00%\n",
      "Epoch [2/5], Step [5400/6000], Loss: 0.0007, Accuracy: 100.00%\n",
      "Epoch [2/5], Step [5500/6000], Loss: 0.0006, Accuracy: 100.00%\n",
      "Epoch [2/5], Step [5600/6000], Loss: 0.1251, Accuracy: 90.00%\n",
      "Epoch [2/5], Step [5700/6000], Loss: 0.0087, Accuracy: 100.00%\n",
      "Epoch [2/5], Step [5800/6000], Loss: 0.0005, Accuracy: 100.00%\n",
      "Epoch [2/5], Step [5900/6000], Loss: 0.0008, Accuracy: 100.00%\n",
      "Epoch [2/5], Step [6000/6000], Loss: 0.0746, Accuracy: 90.00%\n",
      "Epoch [3/5], Step [100/6000], Loss: 0.0022, Accuracy: 100.00%\n",
      "Epoch [3/5], Step [200/6000], Loss: 0.0007, Accuracy: 100.00%\n",
      "Epoch [3/5], Step [300/6000], Loss: 0.0011, Accuracy: 100.00%\n",
      "Epoch [3/5], Step [400/6000], Loss: 0.0075, Accuracy: 100.00%\n",
      "Epoch [3/5], Step [500/6000], Loss: 0.4085, Accuracy: 90.00%\n",
      "Epoch [3/5], Step [600/6000], Loss: 0.0010, Accuracy: 100.00%\n",
      "Epoch [3/5], Step [700/6000], Loss: 0.3671, Accuracy: 90.00%\n",
      "Epoch [3/5], Step [800/6000], Loss: 0.0013, Accuracy: 100.00%\n",
      "Epoch [3/5], Step [900/6000], Loss: 0.0000, Accuracy: 100.00%\n",
      "Epoch [3/5], Step [1000/6000], Loss: 0.0675, Accuracy: 100.00%\n",
      "Epoch [3/5], Step [1100/6000], Loss: 0.0018, Accuracy: 100.00%\n",
      "Epoch [3/5], Step [1200/6000], Loss: 0.0021, Accuracy: 100.00%\n",
      "Epoch [3/5], Step [1300/6000], Loss: 0.0432, Accuracy: 100.00%\n",
      "Epoch [3/5], Step [1400/6000], Loss: 0.1454, Accuracy: 90.00%\n",
      "Epoch [3/5], Step [1500/6000], Loss: 0.0039, Accuracy: 100.00%\n",
      "Epoch [3/5], Step [1600/6000], Loss: 0.0003, Accuracy: 100.00%\n",
      "Epoch [3/5], Step [1700/6000], Loss: 0.0150, Accuracy: 100.00%\n",
      "Epoch [3/5], Step [1800/6000], Loss: 0.0007, Accuracy: 100.00%\n",
      "Epoch [3/5], Step [1900/6000], Loss: 0.0034, Accuracy: 100.00%\n",
      "Epoch [3/5], Step [2000/6000], Loss: 0.0042, Accuracy: 100.00%\n",
      "Epoch [3/5], Step [2100/6000], Loss: 0.0004, Accuracy: 100.00%\n",
      "Epoch [3/5], Step [2200/6000], Loss: 0.0007, Accuracy: 100.00%\n",
      "Epoch [3/5], Step [2300/6000], Loss: 0.0003, Accuracy: 100.00%\n",
      "Epoch [3/5], Step [2400/6000], Loss: 0.0026, Accuracy: 100.00%\n",
      "Epoch [3/5], Step [2500/6000], Loss: 0.0050, Accuracy: 100.00%\n",
      "Epoch [3/5], Step [2600/6000], Loss: 0.0012, Accuracy: 100.00%\n",
      "Epoch [3/5], Step [2700/6000], Loss: 0.0004, Accuracy: 100.00%\n",
      "Epoch [3/5], Step [2800/6000], Loss: 0.0009, Accuracy: 100.00%\n",
      "Epoch [3/5], Step [2900/6000], Loss: 0.0001, Accuracy: 100.00%\n",
      "Epoch [3/5], Step [3000/6000], Loss: 0.2920, Accuracy: 90.00%\n",
      "Epoch [3/5], Step [3100/6000], Loss: 0.0009, Accuracy: 100.00%\n",
      "Epoch [3/5], Step [3200/6000], Loss: 0.0122, Accuracy: 100.00%\n",
      "Epoch [3/5], Step [3300/6000], Loss: 0.0176, Accuracy: 100.00%\n",
      "Epoch [3/5], Step [3400/6000], Loss: 0.0267, Accuracy: 100.00%\n",
      "Epoch [3/5], Step [3500/6000], Loss: 0.0036, Accuracy: 100.00%\n",
      "Epoch [3/5], Step [3600/6000], Loss: 0.0184, Accuracy: 100.00%\n",
      "Epoch [3/5], Step [3700/6000], Loss: 0.0061, Accuracy: 100.00%\n",
      "Epoch [3/5], Step [3800/6000], Loss: 0.0006, Accuracy: 100.00%\n",
      "Epoch [3/5], Step [3900/6000], Loss: 0.2786, Accuracy: 90.00%\n",
      "Epoch [3/5], Step [4000/6000], Loss: 0.0175, Accuracy: 100.00%\n",
      "Epoch [3/5], Step [4100/6000], Loss: 0.0004, Accuracy: 100.00%\n",
      "Epoch [3/5], Step [4200/6000], Loss: 0.0190, Accuracy: 100.00%\n",
      "Epoch [3/5], Step [4300/6000], Loss: 0.0004, Accuracy: 100.00%\n",
      "Epoch [3/5], Step [4400/6000], Loss: 0.0037, Accuracy: 100.00%\n",
      "Epoch [3/5], Step [4500/6000], Loss: 0.1765, Accuracy: 90.00%\n",
      "Epoch [3/5], Step [4600/6000], Loss: 0.0002, Accuracy: 100.00%\n",
      "Epoch [3/5], Step [4700/6000], Loss: 0.0030, Accuracy: 100.00%\n",
      "Epoch [3/5], Step [4800/6000], Loss: 0.0151, Accuracy: 100.00%\n",
      "Epoch [3/5], Step [4900/6000], Loss: 0.0495, Accuracy: 100.00%\n",
      "Epoch [3/5], Step [5000/6000], Loss: 0.0144, Accuracy: 100.00%\n",
      "Epoch [3/5], Step [5100/6000], Loss: 0.2320, Accuracy: 90.00%\n",
      "Epoch [3/5], Step [5200/6000], Loss: 0.0005, Accuracy: 100.00%\n",
      "Epoch [3/5], Step [5300/6000], Loss: 0.0007, Accuracy: 100.00%\n",
      "Epoch [3/5], Step [5400/6000], Loss: 0.0001, Accuracy: 100.00%\n",
      "Epoch [3/5], Step [5500/6000], Loss: 0.0157, Accuracy: 100.00%\n",
      "Epoch [3/5], Step [5600/6000], Loss: 0.0017, Accuracy: 100.00%\n",
      "Epoch [3/5], Step [5700/6000], Loss: 0.0018, Accuracy: 100.00%\n",
      "Epoch [3/5], Step [5800/6000], Loss: 0.0017, Accuracy: 100.00%\n",
      "Epoch [3/5], Step [5900/6000], Loss: 0.0004, Accuracy: 100.00%\n",
      "Epoch [3/5], Step [6000/6000], Loss: 0.0001, Accuracy: 100.00%\n",
      "Epoch [4/5], Step [100/6000], Loss: 0.0014, Accuracy: 100.00%\n",
      "Epoch [4/5], Step [200/6000], Loss: 0.0079, Accuracy: 100.00%\n",
      "Epoch [4/5], Step [300/6000], Loss: 0.0002, Accuracy: 100.00%\n",
      "Epoch [4/5], Step [400/6000], Loss: 0.0790, Accuracy: 90.00%\n",
      "Epoch [4/5], Step [500/6000], Loss: 0.0001, Accuracy: 100.00%\n",
      "Epoch [4/5], Step [600/6000], Loss: 0.0002, Accuracy: 100.00%\n",
      "Epoch [4/5], Step [700/6000], Loss: 0.0352, Accuracy: 100.00%\n",
      "Epoch [4/5], Step [800/6000], Loss: 0.0005, Accuracy: 100.00%\n",
      "Epoch [4/5], Step [900/6000], Loss: 0.0122, Accuracy: 100.00%\n",
      "Epoch [4/5], Step [1000/6000], Loss: 0.0088, Accuracy: 100.00%\n",
      "Epoch [4/5], Step [1100/6000], Loss: 0.0003, Accuracy: 100.00%\n",
      "Epoch [4/5], Step [1200/6000], Loss: 0.0068, Accuracy: 100.00%\n",
      "Epoch [4/5], Step [1300/6000], Loss: 0.0005, Accuracy: 100.00%\n",
      "Epoch [4/5], Step [1400/6000], Loss: 0.0328, Accuracy: 100.00%\n",
      "Epoch [4/5], Step [1500/6000], Loss: 0.0007, Accuracy: 100.00%\n",
      "Epoch [4/5], Step [1600/6000], Loss: 0.0002, Accuracy: 100.00%\n",
      "Epoch [4/5], Step [1700/6000], Loss: 0.4586, Accuracy: 90.00%\n",
      "Epoch [4/5], Step [1800/6000], Loss: 0.0010, Accuracy: 100.00%\n",
      "Epoch [4/5], Step [1900/6000], Loss: 0.0011, Accuracy: 100.00%\n",
      "Epoch [4/5], Step [2000/6000], Loss: 0.0029, Accuracy: 100.00%\n",
      "Epoch [4/5], Step [2100/6000], Loss: 0.0025, Accuracy: 100.00%\n",
      "Epoch [4/5], Step [2200/6000], Loss: 0.0005, Accuracy: 100.00%\n",
      "Epoch [4/5], Step [2300/6000], Loss: 0.2367, Accuracy: 90.00%\n",
      "Epoch [4/5], Step [2400/6000], Loss: 0.0001, Accuracy: 100.00%\n",
      "Epoch [4/5], Step [2500/6000], Loss: 0.0005, Accuracy: 100.00%\n",
      "Epoch [4/5], Step [2600/6000], Loss: 0.0003, Accuracy: 100.00%\n",
      "Epoch [4/5], Step [2700/6000], Loss: 0.0003, Accuracy: 100.00%\n",
      "Epoch [4/5], Step [2800/6000], Loss: 0.0009, Accuracy: 100.00%\n",
      "Epoch [4/5], Step [2900/6000], Loss: 0.0043, Accuracy: 100.00%\n",
      "Epoch [4/5], Step [3000/6000], Loss: 0.0021, Accuracy: 100.00%\n",
      "Epoch [4/5], Step [3100/6000], Loss: 0.0004, Accuracy: 100.00%\n",
      "Epoch [4/5], Step [3200/6000], Loss: 0.0103, Accuracy: 100.00%\n",
      "Epoch [4/5], Step [3300/6000], Loss: 0.0752, Accuracy: 100.00%\n",
      "Epoch [4/5], Step [3400/6000], Loss: 0.0914, Accuracy: 90.00%\n",
      "Epoch [4/5], Step [3500/6000], Loss: 0.0005, Accuracy: 100.00%\n",
      "Epoch [4/5], Step [3600/6000], Loss: 0.0013, Accuracy: 100.00%\n",
      "Epoch [4/5], Step [3700/6000], Loss: 0.0016, Accuracy: 100.00%\n",
      "Epoch [4/5], Step [3800/6000], Loss: 0.0017, Accuracy: 100.00%\n",
      "Epoch [4/5], Step [3900/6000], Loss: 0.0003, Accuracy: 100.00%\n",
      "Epoch [4/5], Step [4000/6000], Loss: 0.0006, Accuracy: 100.00%\n",
      "Epoch [4/5], Step [4100/6000], Loss: 0.0096, Accuracy: 100.00%\n",
      "Epoch [4/5], Step [4200/6000], Loss: 0.0004, Accuracy: 100.00%\n",
      "Epoch [4/5], Step [4300/6000], Loss: 0.0005, Accuracy: 100.00%\n",
      "Epoch [4/5], Step [4400/6000], Loss: 0.0001, Accuracy: 100.00%\n",
      "Epoch [4/5], Step [4500/6000], Loss: 0.0001, Accuracy: 100.00%\n",
      "Epoch [4/5], Step [4600/6000], Loss: 0.0037, Accuracy: 100.00%\n",
      "Epoch [4/5], Step [4700/6000], Loss: 0.0705, Accuracy: 100.00%\n",
      "Epoch [4/5], Step [4800/6000], Loss: 0.0412, Accuracy: 100.00%\n",
      "Epoch [4/5], Step [4900/6000], Loss: 0.0158, Accuracy: 100.00%\n",
      "Epoch [4/5], Step [5000/6000], Loss: 0.0003, Accuracy: 100.00%\n",
      "Epoch [4/5], Step [5100/6000], Loss: 0.0003, Accuracy: 100.00%\n",
      "Epoch [4/5], Step [5200/6000], Loss: 0.0003, Accuracy: 100.00%\n",
      "Epoch [4/5], Step [5300/6000], Loss: 0.0060, Accuracy: 100.00%\n",
      "Epoch [4/5], Step [5400/6000], Loss: 0.0041, Accuracy: 100.00%\n",
      "Epoch [4/5], Step [5500/6000], Loss: 0.0005, Accuracy: 100.00%\n",
      "Epoch [4/5], Step [5600/6000], Loss: 0.0110, Accuracy: 100.00%\n",
      "Epoch [4/5], Step [5700/6000], Loss: 0.0011, Accuracy: 100.00%\n",
      "Epoch [4/5], Step [5800/6000], Loss: 0.0002, Accuracy: 100.00%\n",
      "Epoch [4/5], Step [5900/6000], Loss: 0.0028, Accuracy: 100.00%\n",
      "Epoch [4/5], Step [6000/6000], Loss: 0.0015, Accuracy: 100.00%\n",
      "Epoch [5/5], Step [100/6000], Loss: 0.0057, Accuracy: 100.00%\n",
      "Epoch [5/5], Step [200/6000], Loss: 0.0001, Accuracy: 100.00%\n",
      "Epoch [5/5], Step [300/6000], Loss: 0.1218, Accuracy: 90.00%\n",
      "Epoch [5/5], Step [400/6000], Loss: 0.8848, Accuracy: 90.00%\n",
      "Epoch [5/5], Step [500/6000], Loss: 0.1375, Accuracy: 90.00%\n",
      "Epoch [5/5], Step [600/6000], Loss: 0.0010, Accuracy: 100.00%\n",
      "Epoch [5/5], Step [700/6000], Loss: 0.0217, Accuracy: 100.00%\n",
      "Epoch [5/5], Step [800/6000], Loss: 0.0180, Accuracy: 100.00%\n",
      "Epoch [5/5], Step [900/6000], Loss: 0.1008, Accuracy: 100.00%\n",
      "Epoch [5/5], Step [1000/6000], Loss: 0.0008, Accuracy: 100.00%\n",
      "Epoch [5/5], Step [1100/6000], Loss: 0.0037, Accuracy: 100.00%\n",
      "Epoch [5/5], Step [1200/6000], Loss: 0.0756, Accuracy: 100.00%\n",
      "Epoch [5/5], Step [1300/6000], Loss: 0.0011, Accuracy: 100.00%\n",
      "Epoch [5/5], Step [1400/6000], Loss: 0.0000, Accuracy: 100.00%\n",
      "Epoch [5/5], Step [1500/6000], Loss: 0.0006, Accuracy: 100.00%\n",
      "Epoch [5/5], Step [1600/6000], Loss: 0.0008, Accuracy: 100.00%\n",
      "Epoch [5/5], Step [1700/6000], Loss: 0.3354, Accuracy: 90.00%\n",
      "Epoch [5/5], Step [1800/6000], Loss: 0.0001, Accuracy: 100.00%\n",
      "Epoch [5/5], Step [1900/6000], Loss: 0.0003, Accuracy: 100.00%\n",
      "Epoch [5/5], Step [2000/6000], Loss: 0.0001, Accuracy: 100.00%\n",
      "Epoch [5/5], Step [2100/6000], Loss: 0.0017, Accuracy: 100.00%\n",
      "Epoch [5/5], Step [2200/6000], Loss: 0.0237, Accuracy: 100.00%\n",
      "Epoch [5/5], Step [2300/6000], Loss: 0.0013, Accuracy: 100.00%\n",
      "Epoch [5/5], Step [2400/6000], Loss: 0.0003, Accuracy: 100.00%\n",
      "Epoch [5/5], Step [2500/6000], Loss: 0.0006, Accuracy: 100.00%\n",
      "Epoch [5/5], Step [2600/6000], Loss: 0.0002, Accuracy: 100.00%\n",
      "Epoch [5/5], Step [2700/6000], Loss: 0.0000, Accuracy: 100.00%\n",
      "Epoch [5/5], Step [2800/6000], Loss: 0.0001, Accuracy: 100.00%\n",
      "Epoch [5/5], Step [2900/6000], Loss: 0.0002, Accuracy: 100.00%\n",
      "Epoch [5/5], Step [3000/6000], Loss: 0.0081, Accuracy: 100.00%\n",
      "Epoch [5/5], Step [3100/6000], Loss: 0.1416, Accuracy: 90.00%\n",
      "Epoch [5/5], Step [3200/6000], Loss: 0.0133, Accuracy: 100.00%\n",
      "Epoch [5/5], Step [3300/6000], Loss: 0.0006, Accuracy: 100.00%\n",
      "Epoch [5/5], Step [3400/6000], Loss: 0.0012, Accuracy: 100.00%\n",
      "Epoch [5/5], Step [3500/6000], Loss: 0.0008, Accuracy: 100.00%\n",
      "Epoch [5/5], Step [3600/6000], Loss: 0.0000, Accuracy: 100.00%\n",
      "Epoch [5/5], Step [3700/6000], Loss: 0.0001, Accuracy: 100.00%\n",
      "Epoch [5/5], Step [3800/6000], Loss: 0.0379, Accuracy: 100.00%\n",
      "Epoch [5/5], Step [3900/6000], Loss: 0.0258, Accuracy: 100.00%\n",
      "Epoch [5/5], Step [4000/6000], Loss: 0.0000, Accuracy: 100.00%\n",
      "Epoch [5/5], Step [4100/6000], Loss: 0.0002, Accuracy: 100.00%\n",
      "Epoch [5/5], Step [4200/6000], Loss: 0.0431, Accuracy: 100.00%\n",
      "Epoch [5/5], Step [4300/6000], Loss: 0.0062, Accuracy: 100.00%\n",
      "Epoch [5/5], Step [4400/6000], Loss: 0.0019, Accuracy: 100.00%\n",
      "Epoch [5/5], Step [4500/6000], Loss: 0.0001, Accuracy: 100.00%\n",
      "Epoch [5/5], Step [4600/6000], Loss: 0.0000, Accuracy: 100.00%\n",
      "Epoch [5/5], Step [4700/6000], Loss: 0.0018, Accuracy: 100.00%\n",
      "Epoch [5/5], Step [4800/6000], Loss: 0.0173, Accuracy: 100.00%\n",
      "Epoch [5/5], Step [4900/6000], Loss: 0.0002, Accuracy: 100.00%\n",
      "Epoch [5/5], Step [5000/6000], Loss: 0.0374, Accuracy: 100.00%\n",
      "Epoch [5/5], Step [5100/6000], Loss: 0.0000, Accuracy: 100.00%\n",
      "Epoch [5/5], Step [5200/6000], Loss: 0.0049, Accuracy: 100.00%\n",
      "Epoch [5/5], Step [5300/6000], Loss: 0.0013, Accuracy: 100.00%\n",
      "Epoch [5/5], Step [5400/6000], Loss: 0.0001, Accuracy: 100.00%\n",
      "Epoch [5/5], Step [5500/6000], Loss: 0.0006, Accuracy: 100.00%\n",
      "Epoch [5/5], Step [5600/6000], Loss: 0.0206, Accuracy: 100.00%\n",
      "Epoch [5/5], Step [5700/6000], Loss: 0.0055, Accuracy: 100.00%\n",
      "Epoch [5/5], Step [5800/6000], Loss: 0.0021, Accuracy: 100.00%\n",
      "Epoch [5/5], Step [5900/6000], Loss: 0.0012, Accuracy: 100.00%\n",
      "Epoch [5/5], Step [6000/6000], Loss: 0.0008, Accuracy: 100.00%\n",
      "Training completed in 67.32 seconds\n"
     ]
    }
   ],
   "source": [
    "import time\n",
    "start_time = time.time()\n",
    "\n",
    "# Create Variables to track training progress\n",
    "num_epochs = 5\n",
    "train_losses = []\n",
    "train_accuracies = []\n",
    "test_losses = []\n",
    "test_accuracies = []\n",
    "\n",
    "# Training loop\n",
    "for epoch in range(num_epochs):\n",
    "    train_correct = 0\n",
    "    test_correct = 0\n",
    "\n",
    "    # Training phase\n",
    "    for i, (X_train, y_train) in enumerate(train_loader):\n",
    "\n",
    "        i += 1\n",
    "        y_pred = model(X_train) # get predictions, not flattened \n",
    "        loss = criterion(y_pred, y_train) # how far off are we from the correct answer\n",
    "\n",
    "        predicted = torch.max(y_pred.data, 1)[1] # add up the number of correct predictions\n",
    "        batch_correct = (predicted == y_train).sum() # how may we got correct from this batch\n",
    "        train_correct += batch_correct # keep track of the total correct predictions\n",
    "\n",
    "        # Update the model parameters\n",
    "        optimizer.zero_grad()  # Zero the gradients\n",
    "        loss.backward()  # Backpropagation\n",
    "        optimizer.step()  # Update the weights\n",
    "\n",
    "        # print progress\n",
    "        if i % 100 == 0:\n",
    "            print(f'Epoch [{epoch+1}/{num_epochs}], Step [{i}/{len(train_loader)}], Loss: {loss.item():.4f}, Accuracy: {100 * batch_correct / len(X_train):.2f}%')\n",
    "\n",
    "    train_losses.append(loss)\n",
    "    train_accuracies.append(train_correct)\n",
    "\n",
    "    # Testing phase\n",
    "    with torch.no_grad(): # No gradient calculation for testing\n",
    "        for i, (X_test, y_test) in enumerate(test_loader):\n",
    "            y_val = model(X_test)\n",
    "            predicted = torch.max(y_val.data, 1)[1]  # Get the predicted class\n",
    "            test_correct += (predicted == y_test).sum()  # Count correct predictions\n",
    "\n",
    "        loss = criterion(y_val, y_test)  # Calculate loss for the test set\n",
    "        test_losses.append(loss)\n",
    "        test_accuracies.append(test_correct)\n",
    "\n",
    "current_time = time.time()\n",
    "total_time = current_time - start_time\n",
    "print(f'Training completed in {total_time:.2f} seconds')"
   ]
  }
 ],
 "metadata": {
  "kernelspec": {
   "display_name": "pytorch",
   "language": "python",
   "name": "python3"
  },
  "language_info": {
   "codemirror_mode": {
    "name": "ipython",
    "version": 3
   },
   "file_extension": ".py",
   "mimetype": "text/x-python",
   "name": "python",
   "nbconvert_exporter": "python",
   "pygments_lexer": "ipython3",
   "version": "3.10.18"
  }
 },
 "nbformat": 4,
 "nbformat_minor": 5
}
