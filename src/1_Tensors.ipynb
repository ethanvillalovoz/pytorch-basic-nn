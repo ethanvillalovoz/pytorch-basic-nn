{
 "cells": [
  {
   "cell_type": "markdown",
   "id": "644de6f1",
   "metadata": {},
   "source": [
    "# Introduction to Tensors in PyTorch\n",
    "\n",
    "Tensors are the fundamental building blocks in PyTorch, similar to arrays in NumPy but with additional capabilities for GPU acceleration and deep learning. Understanding tensors is essential for anyone working with PyTorch, as they are used to represent data and model parameters in neural networks."
   ]
  },
  {
   "cell_type": "markdown",
   "id": "caaf920c",
   "metadata": {},
   "source": [
    "- A torch.Tensor is a multi-dimentional matrix containg elements of a single data type.\n",
    "\n",
    "- Simiiar to Numpy arrays, but are used to be worked better on GPU's (rather than CPU's).\n",
    "\n",
    "- Default data type is float32.\n",
    "\n",
    "- More suitable for deep learning (Neural Networks) than a numpy array."
   ]
  },
  {
   "cell_type": "code",
   "execution_count": 1,
   "id": "8202d1e3",
   "metadata": {},
   "outputs": [],
   "source": [
    "import torch\n",
    "import numpy as np"
   ]
  },
  {
   "cell_type": "markdown",
   "id": "afee8228",
   "metadata": {},
   "source": [
    "## Comparing Python Lists, NumPy Arrays, and PyTorch Tensors\n",
    "\n",
    "- **Python Lists**: Flexible, can hold different data types, but not optimized for numerical computations.\n",
    "- **NumPy Arrays**: Efficient for numerical operations, fixed data type, but mainly CPU-based.\n",
    "- **PyTorch Tensors**: Similar to NumPy arrays, but support GPU acceleration and are essential for deep learning with PyTorch."
   ]
  },
  {
   "cell_type": "markdown",
   "id": "1593ad01",
   "metadata": {},
   "source": [
    "# Lists"
   ]
  },
  {
   "cell_type": "code",
   "execution_count": 2,
   "id": "234d0b6e",
   "metadata": {},
   "outputs": [
    {
     "data": {
      "text/plain": [
       "[1, 2, 3, 4, 5]"
      ]
     },
     "execution_count": 2,
     "metadata": {},
     "output_type": "execute_result"
    }
   ],
   "source": [
    "my_list = [1, 2, 3, 4, 5]\n",
    "my_list"
   ]
  },
  {
   "cell_type": "code",
   "execution_count": 4,
   "id": "e3916e64",
   "metadata": {},
   "outputs": [
    {
     "data": {
      "text/plain": [
       "[[1, 2, 3], [4, 5, 6]]"
      ]
     },
     "execution_count": 4,
     "metadata": {},
     "output_type": "execute_result"
    }
   ],
   "source": [
    "multi_my_list = [[1, 2, 3], [4, 5, 6]]\n",
    "multi_my_list"
   ]
  },
  {
   "cell_type": "markdown",
   "id": "ac498095",
   "metadata": {},
   "source": [
    "# Numpy Arrays"
   ]
  },
  {
   "cell_type": "code",
   "execution_count": 5,
   "id": "76f0d1d9",
   "metadata": {},
   "outputs": [
    {
     "data": {
      "text/plain": [
       "array([[0.57622099, 0.71487346, 0.81373635],\n",
       "       [0.86330691, 0.47363297, 0.89301039],\n",
       "       [0.33282158, 0.23899673, 0.2460142 ]])"
      ]
     },
     "execution_count": 5,
     "metadata": {},
     "output_type": "execute_result"
    }
   ],
   "source": [
    "np_array = np.random.rand(3, 3)\n",
    "np_array"
   ]
  },
  {
   "cell_type": "code",
   "execution_count": 6,
   "id": "c8a0a591",
   "metadata": {},
   "outputs": [
    {
     "data": {
      "text/plain": [
       "dtype('float64')"
      ]
     },
     "execution_count": 6,
     "metadata": {},
     "output_type": "execute_result"
    }
   ],
   "source": [
    "np_array.dtype"
   ]
  },
  {
   "cell_type": "markdown",
   "id": "9fdb1a25",
   "metadata": {},
   "source": [
    "# Tensors"
   ]
  },
  {
   "cell_type": "code",
   "execution_count": 7,
   "id": "bdca2a26",
   "metadata": {},
   "outputs": [
    {
     "data": {
      "text/plain": [
       "tensor([[0.2772, 0.7112, 0.7708],\n",
       "        [0.8292, 0.9373, 0.2262],\n",
       "        [0.4562, 0.6140, 0.1368]])"
      ]
     },
     "execution_count": 7,
     "metadata": {},
     "output_type": "execute_result"
    }
   ],
   "source": [
    "tensor_2d = torch.rand(3, 3)\n",
    "tensor_2d"
   ]
  },
  {
   "cell_type": "code",
   "execution_count": 10,
   "id": "5a9ed703",
   "metadata": {},
   "outputs": [
    {
     "data": {
      "text/plain": [
       "tensor([[[0., 0., 0.],\n",
       "         [0., 0., 0.],\n",
       "         [0., 0., 0.]],\n",
       "\n",
       "        [[0., 0., 0.],\n",
       "         [0., 0., 0.],\n",
       "         [0., 0., 0.]],\n",
       "\n",
       "        [[0., 0., 0.],\n",
       "         [0., 0., 0.],\n",
       "         [0., 0., 0.]]])"
      ]
     },
     "execution_count": 10,
     "metadata": {},
     "output_type": "execute_result"
    }
   ],
   "source": [
    "tensor_3d = torch.zeros(3, 3, 3)\n",
    "tensor_3d"
   ]
  },
  {
   "cell_type": "code",
   "execution_count": 11,
   "id": "b114b816",
   "metadata": {},
   "outputs": [
    {
     "data": {
      "text/plain": [
       "tensor([[0.5762, 0.7149, 0.8137],\n",
       "        [0.8633, 0.4736, 0.8930],\n",
       "        [0.3328, 0.2390, 0.2460]], dtype=torch.float64)"
      ]
     },
     "execution_count": 11,
     "metadata": {},
     "output_type": "execute_result"
    }
   ],
   "source": [
    "## Create tensors from numpy arrays\n",
    "tensor_from_np = torch.from_numpy(np_array)\n",
    "tensor_from_np"
   ]
  },
  {
   "cell_type": "markdown",
   "id": "e96bb532",
   "metadata": {},
   "source": [
    "# Summary\n",
    "\n",
    "- Tensors are the core data structure in PyTorch, enabling efficient computation on both CPUs and GPUs.\n",
    "- You learned how to create tensors.\n",
    "- Mastering tensors is essential for building and training neural networks in PyTorch."
   ]
  },
  {
   "cell_type": "markdown",
   "id": "8035b80e",
   "metadata": {},
   "source": []
  }
 ],
 "metadata": {
  "kernelspec": {
   "display_name": "pytorch",
   "language": "python",
   "name": "python3"
  },
  "language_info": {
   "codemirror_mode": {
    "name": "ipython",
    "version": 3
   },
   "file_extension": ".py",
   "mimetype": "text/x-python",
   "name": "python",
   "nbconvert_exporter": "python",
   "pygments_lexer": "ipython3",
   "version": "3.10.18"
  }
 },
 "nbformat": 4,
 "nbformat_minor": 5
}
