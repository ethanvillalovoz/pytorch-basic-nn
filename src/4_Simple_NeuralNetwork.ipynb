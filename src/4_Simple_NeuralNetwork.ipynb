{
 "cells": [
  {
   "cell_type": "code",
   "execution_count": 1,
   "id": "90f9e08e",
   "metadata": {},
   "outputs": [],
   "source": [
    "import torch\n",
    "import torch.nn as nn\n",
    "import torch.nn.functional as F"
   ]
  },
  {
   "cell_type": "markdown",
   "id": "ebd9f0f2",
   "metadata": {},
   "source": [
    "# Simple Neural Network with PyTorch: Iris Dataset\n",
    "\n",
    "This notebook demonstrates how to build, train, evaluate, and save a simple neural network for classifying iris flowers using PyTorch. You'll learn about data preprocessing, model definition, training loops, evaluation, and model persistence."
   ]
  },
  {
   "cell_type": "code",
   "execution_count": 2,
   "id": "b68f740b",
   "metadata": {},
   "outputs": [],
   "source": [
    "# Create a Model class that inherits from nn.Module\n",
    "class Model(nn.Module):\n",
    "    # Input layer (4 features of the iris dataset) -> \n",
    "    # Hidden layer1 (10 neurons) ->\n",
    "    # Hidden layer2 (5 neurons) -> \n",
    "    # Output layer (3 classes)\n",
    "    def __init__(self, input_size=4, hidden_size1=10, hidden_size2=5, output_size=3):\n",
    "        super(Model, self).__init__() # Initialize the parent class\n",
    "\n",
    "        # Define the layers of the neural network\n",
    "\n",
    "        # Input layer to first hidden layer\n",
    "        self.fc1 = nn.Linear(input_size, hidden_size1)\n",
    "\n",
    "        # First hidden layer to second hidden layer\n",
    "        self.fc2 = nn.Linear(hidden_size1, hidden_size2)\n",
    "\n",
    "        # Second hidden layer to output layer\n",
    "        self.output = nn.Linear(hidden_size2, output_size)\n",
    "\n",
    "    def forward(self, x):\n",
    "        # Apply ReLU activation function to the first hidden layer\n",
    "        x = F.relu(self.fc1(x))\n",
    "\n",
    "        # Apply ReLU activation function to the second hidden layer\n",
    "        x = F.relu(self.fc2(x))\n",
    "        \n",
    "        # Output layer (no activation function applied)\n",
    "        x = self.output(x)\n",
    "\n",
    "        return x"
   ]
  },
  {
   "cell_type": "markdown",
   "id": "fd7c8fc5",
   "metadata": {},
   "source": [
    "## Model Architecture\n",
    "\n",
    "We define a simple feedforward neural network with two hidden layers using PyTorch's `nn.Module`. The model takes 4 input features and outputs probabilities for 3 classes."
   ]
  },
  {
   "cell_type": "code",
   "execution_count": 71,
   "id": "502ed1a7",
   "metadata": {},
   "outputs": [],
   "source": [
    "# Pick a random seed for reproducibility\n",
    "torch.manual_seed(42)\n",
    "# Create an instance of the Model\n",
    "model = Model()"
   ]
  },
  {
   "cell_type": "code",
   "execution_count": 101,
   "id": "c69b7bcf",
   "metadata": {},
   "outputs": [
    {
     "name": "stdout",
     "output_type": "stream",
     "text": [
      "Model(\n",
      "  (fc1): Linear(in_features=4, out_features=10, bias=True)\n",
      "  (fc2): Linear(in_features=10, out_features=5, bias=True)\n",
      "  (output): Linear(in_features=5, out_features=3, bias=True)\n",
      ")\n"
     ]
    }
   ],
   "source": [
    "# Print model summary\n",
    "print(model)"
   ]
  },
  {
   "cell_type": "code",
   "execution_count": 72,
   "id": "7f7ad796",
   "metadata": {},
   "outputs": [],
   "source": [
    "import pandas as pd\n",
    "import matplotlib.pyplot as plt\n",
    "\n",
    "# This line is used to display plots inline in Jupyter notebooks\n",
    "%matplotlib inline "
   ]
  },
  {
   "cell_type": "markdown",
   "id": "ed48fdac",
   "metadata": {},
   "source": [
    "## About the Iris Dataset\n",
    "\n",
    "The Iris dataset is a classic dataset in machine learning, containing 150 samples of iris flowers with four features each:\n",
    "- sepal length\n",
    "- sepal width\n",
    "- petal length\n",
    "- petal width\n",
    "\n",
    "There are three classes (species):\n",
    "- 0: Setosa\n",
    "- 1: Versicolor\n",
    "- 2: Virginica"
   ]
  },
  {
   "cell_type": "code",
   "execution_count": 73,
   "id": "34bc1908",
   "metadata": {},
   "outputs": [],
   "source": [
    "url = 'https://gist.githubusercontent.com/netj/8836201/raw/6f9306ad21398ea43cba4f7d537619d0e07d5ae3/iris.csv'\n",
    "# Read the dataset into a pandas DataFrame\n",
    "df = pd.read_csv(url)"
   ]
  },
  {
   "cell_type": "code",
   "execution_count": 74,
   "id": "ef351614",
   "metadata": {},
   "outputs": [
    {
     "data": {
      "text/html": [
       "<div>\n",
       "<style scoped>\n",
       "    .dataframe tbody tr th:only-of-type {\n",
       "        vertical-align: middle;\n",
       "    }\n",
       "\n",
       "    .dataframe tbody tr th {\n",
       "        vertical-align: top;\n",
       "    }\n",
       "\n",
       "    .dataframe thead th {\n",
       "        text-align: right;\n",
       "    }\n",
       "</style>\n",
       "<table border=\"1\" class=\"dataframe\">\n",
       "  <thead>\n",
       "    <tr style=\"text-align: right;\">\n",
       "      <th></th>\n",
       "      <th>sepal.length</th>\n",
       "      <th>sepal.width</th>\n",
       "      <th>petal.length</th>\n",
       "      <th>petal.width</th>\n",
       "      <th>variety</th>\n",
       "    </tr>\n",
       "  </thead>\n",
       "  <tbody>\n",
       "    <tr>\n",
       "      <th>0</th>\n",
       "      <td>5.1</td>\n",
       "      <td>3.5</td>\n",
       "      <td>1.4</td>\n",
       "      <td>0.2</td>\n",
       "      <td>Setosa</td>\n",
       "    </tr>\n",
       "    <tr>\n",
       "      <th>1</th>\n",
       "      <td>4.9</td>\n",
       "      <td>3.0</td>\n",
       "      <td>1.4</td>\n",
       "      <td>0.2</td>\n",
       "      <td>Setosa</td>\n",
       "    </tr>\n",
       "    <tr>\n",
       "      <th>2</th>\n",
       "      <td>4.7</td>\n",
       "      <td>3.2</td>\n",
       "      <td>1.3</td>\n",
       "      <td>0.2</td>\n",
       "      <td>Setosa</td>\n",
       "    </tr>\n",
       "    <tr>\n",
       "      <th>3</th>\n",
       "      <td>4.6</td>\n",
       "      <td>3.1</td>\n",
       "      <td>1.5</td>\n",
       "      <td>0.2</td>\n",
       "      <td>Setosa</td>\n",
       "    </tr>\n",
       "    <tr>\n",
       "      <th>4</th>\n",
       "      <td>5.0</td>\n",
       "      <td>3.6</td>\n",
       "      <td>1.4</td>\n",
       "      <td>0.2</td>\n",
       "      <td>Setosa</td>\n",
       "    </tr>\n",
       "  </tbody>\n",
       "</table>\n",
       "</div>"
      ],
      "text/plain": [
       "   sepal.length  sepal.width  petal.length  petal.width variety\n",
       "0           5.1          3.5           1.4          0.2  Setosa\n",
       "1           4.9          3.0           1.4          0.2  Setosa\n",
       "2           4.7          3.2           1.3          0.2  Setosa\n",
       "3           4.6          3.1           1.5          0.2  Setosa\n",
       "4           5.0          3.6           1.4          0.2  Setosa"
      ]
     },
     "execution_count": 74,
     "metadata": {},
     "output_type": "execute_result"
    }
   ],
   "source": [
    "df.head()  # Display the first few rows of the DataFrame"
   ]
  },
  {
   "cell_type": "markdown",
   "id": "037c631a",
   "metadata": {},
   "source": [
    "## Data Preprocessing\n",
    "\n",
    "We load the dataset, convert class labels to integers, and split the data into training and test sets. Features are converted to float tensors and labels to long tensors for PyTorch compatibility."
   ]
  },
  {
   "cell_type": "code",
   "execution_count": 75,
   "id": "b44f755e",
   "metadata": {},
   "outputs": [
    {
     "name": "stderr",
     "output_type": "stream",
     "text": [
      "/var/folders/96/6g3fwyp57zzcf7yjss5mn5b40000gn/T/ipykernel_39317/968843418.py:2: FutureWarning: Downcasting behavior in `replace` is deprecated and will be removed in a future version. To retain the old behavior, explicitly call `result.infer_objects(copy=False)`. To opt-in to the future behavior, set `pd.set_option('future.no_silent_downcasting', True)`\n",
      "  df['variety'] = df['variety'].replace({'Setosa': 0, 'Versicolor': 1, 'Virginica': 2})\n"
     ]
    },
    {
     "data": {
      "text/html": [
       "<div>\n",
       "<style scoped>\n",
       "    .dataframe tbody tr th:only-of-type {\n",
       "        vertical-align: middle;\n",
       "    }\n",
       "\n",
       "    .dataframe tbody tr th {\n",
       "        vertical-align: top;\n",
       "    }\n",
       "\n",
       "    .dataframe thead th {\n",
       "        text-align: right;\n",
       "    }\n",
       "</style>\n",
       "<table border=\"1\" class=\"dataframe\">\n",
       "  <thead>\n",
       "    <tr style=\"text-align: right;\">\n",
       "      <th></th>\n",
       "      <th>sepal.length</th>\n",
       "      <th>sepal.width</th>\n",
       "      <th>petal.length</th>\n",
       "      <th>petal.width</th>\n",
       "      <th>variety</th>\n",
       "    </tr>\n",
       "  </thead>\n",
       "  <tbody>\n",
       "    <tr>\n",
       "      <th>0</th>\n",
       "      <td>5.1</td>\n",
       "      <td>3.5</td>\n",
       "      <td>1.4</td>\n",
       "      <td>0.2</td>\n",
       "      <td>0</td>\n",
       "    </tr>\n",
       "    <tr>\n",
       "      <th>1</th>\n",
       "      <td>4.9</td>\n",
       "      <td>3.0</td>\n",
       "      <td>1.4</td>\n",
       "      <td>0.2</td>\n",
       "      <td>0</td>\n",
       "    </tr>\n",
       "    <tr>\n",
       "      <th>2</th>\n",
       "      <td>4.7</td>\n",
       "      <td>3.2</td>\n",
       "      <td>1.3</td>\n",
       "      <td>0.2</td>\n",
       "      <td>0</td>\n",
       "    </tr>\n",
       "    <tr>\n",
       "      <th>3</th>\n",
       "      <td>4.6</td>\n",
       "      <td>3.1</td>\n",
       "      <td>1.5</td>\n",
       "      <td>0.2</td>\n",
       "      <td>0</td>\n",
       "    </tr>\n",
       "    <tr>\n",
       "      <th>4</th>\n",
       "      <td>5.0</td>\n",
       "      <td>3.6</td>\n",
       "      <td>1.4</td>\n",
       "      <td>0.2</td>\n",
       "      <td>0</td>\n",
       "    </tr>\n",
       "    <tr>\n",
       "      <th>...</th>\n",
       "      <td>...</td>\n",
       "      <td>...</td>\n",
       "      <td>...</td>\n",
       "      <td>...</td>\n",
       "      <td>...</td>\n",
       "    </tr>\n",
       "    <tr>\n",
       "      <th>145</th>\n",
       "      <td>6.7</td>\n",
       "      <td>3.0</td>\n",
       "      <td>5.2</td>\n",
       "      <td>2.3</td>\n",
       "      <td>2</td>\n",
       "    </tr>\n",
       "    <tr>\n",
       "      <th>146</th>\n",
       "      <td>6.3</td>\n",
       "      <td>2.5</td>\n",
       "      <td>5.0</td>\n",
       "      <td>1.9</td>\n",
       "      <td>2</td>\n",
       "    </tr>\n",
       "    <tr>\n",
       "      <th>147</th>\n",
       "      <td>6.5</td>\n",
       "      <td>3.0</td>\n",
       "      <td>5.2</td>\n",
       "      <td>2.0</td>\n",
       "      <td>2</td>\n",
       "    </tr>\n",
       "    <tr>\n",
       "      <th>148</th>\n",
       "      <td>6.2</td>\n",
       "      <td>3.4</td>\n",
       "      <td>5.4</td>\n",
       "      <td>2.3</td>\n",
       "      <td>2</td>\n",
       "    </tr>\n",
       "    <tr>\n",
       "      <th>149</th>\n",
       "      <td>5.9</td>\n",
       "      <td>3.0</td>\n",
       "      <td>5.1</td>\n",
       "      <td>1.8</td>\n",
       "      <td>2</td>\n",
       "    </tr>\n",
       "  </tbody>\n",
       "</table>\n",
       "<p>150 rows × 5 columns</p>\n",
       "</div>"
      ],
      "text/plain": [
       "     sepal.length  sepal.width  petal.length  petal.width  variety\n",
       "0             5.1          3.5           1.4          0.2        0\n",
       "1             4.9          3.0           1.4          0.2        0\n",
       "2             4.7          3.2           1.3          0.2        0\n",
       "3             4.6          3.1           1.5          0.2        0\n",
       "4             5.0          3.6           1.4          0.2        0\n",
       "..            ...          ...           ...          ...      ...\n",
       "145           6.7          3.0           5.2          2.3        2\n",
       "146           6.3          2.5           5.0          1.9        2\n",
       "147           6.5          3.0           5.2          2.0        2\n",
       "148           6.2          3.4           5.4          2.3        2\n",
       "149           5.9          3.0           5.1          1.8        2\n",
       "\n",
       "[150 rows x 5 columns]"
      ]
     },
     "execution_count": 75,
     "metadata": {},
     "output_type": "execute_result"
    }
   ],
   "source": [
    "# Change last column from string to int\n",
    "df['variety'] = df['variety'].replace({'Setosa': 0, 'Versicolor': 1, 'Virginica': 2})\n",
    "df"
   ]
  },
  {
   "cell_type": "code",
   "execution_count": 102,
   "id": "ff8207de",
   "metadata": {},
   "outputs": [
    {
     "data": {
      "text/plain": [
       "variety\n",
       "0    50\n",
       "1    50\n",
       "2    50\n",
       "Name: count, dtype: int64"
      ]
     },
     "metadata": {},
     "output_type": "display_data"
    },
    {
     "data": {
      "text/html": [
       "<div>\n",
       "<style scoped>\n",
       "    .dataframe tbody tr th:only-of-type {\n",
       "        vertical-align: middle;\n",
       "    }\n",
       "\n",
       "    .dataframe tbody tr th {\n",
       "        vertical-align: top;\n",
       "    }\n",
       "\n",
       "    .dataframe thead th {\n",
       "        text-align: right;\n",
       "    }\n",
       "</style>\n",
       "<table border=\"1\" class=\"dataframe\">\n",
       "  <thead>\n",
       "    <tr style=\"text-align: right;\">\n",
       "      <th></th>\n",
       "      <th>sepal.length</th>\n",
       "      <th>sepal.width</th>\n",
       "      <th>petal.length</th>\n",
       "      <th>petal.width</th>\n",
       "      <th>variety</th>\n",
       "    </tr>\n",
       "  </thead>\n",
       "  <tbody>\n",
       "    <tr>\n",
       "      <th>count</th>\n",
       "      <td>150.000000</td>\n",
       "      <td>150.000000</td>\n",
       "      <td>150.000000</td>\n",
       "      <td>150.000000</td>\n",
       "      <td>150.000000</td>\n",
       "    </tr>\n",
       "    <tr>\n",
       "      <th>mean</th>\n",
       "      <td>5.843333</td>\n",
       "      <td>3.057333</td>\n",
       "      <td>3.758000</td>\n",
       "      <td>1.199333</td>\n",
       "      <td>1.000000</td>\n",
       "    </tr>\n",
       "    <tr>\n",
       "      <th>std</th>\n",
       "      <td>0.828066</td>\n",
       "      <td>0.435866</td>\n",
       "      <td>1.765298</td>\n",
       "      <td>0.762238</td>\n",
       "      <td>0.819232</td>\n",
       "    </tr>\n",
       "    <tr>\n",
       "      <th>min</th>\n",
       "      <td>4.300000</td>\n",
       "      <td>2.000000</td>\n",
       "      <td>1.000000</td>\n",
       "      <td>0.100000</td>\n",
       "      <td>0.000000</td>\n",
       "    </tr>\n",
       "    <tr>\n",
       "      <th>25%</th>\n",
       "      <td>5.100000</td>\n",
       "      <td>2.800000</td>\n",
       "      <td>1.600000</td>\n",
       "      <td>0.300000</td>\n",
       "      <td>0.000000</td>\n",
       "    </tr>\n",
       "    <tr>\n",
       "      <th>50%</th>\n",
       "      <td>5.800000</td>\n",
       "      <td>3.000000</td>\n",
       "      <td>4.350000</td>\n",
       "      <td>1.300000</td>\n",
       "      <td>1.000000</td>\n",
       "    </tr>\n",
       "    <tr>\n",
       "      <th>75%</th>\n",
       "      <td>6.400000</td>\n",
       "      <td>3.300000</td>\n",
       "      <td>5.100000</td>\n",
       "      <td>1.800000</td>\n",
       "      <td>2.000000</td>\n",
       "    </tr>\n",
       "    <tr>\n",
       "      <th>max</th>\n",
       "      <td>7.900000</td>\n",
       "      <td>4.400000</td>\n",
       "      <td>6.900000</td>\n",
       "      <td>2.500000</td>\n",
       "      <td>2.000000</td>\n",
       "    </tr>\n",
       "  </tbody>\n",
       "</table>\n",
       "</div>"
      ],
      "text/plain": [
       "       sepal.length  sepal.width  petal.length  petal.width     variety\n",
       "count    150.000000   150.000000    150.000000   150.000000  150.000000\n",
       "mean       5.843333     3.057333      3.758000     1.199333    1.000000\n",
       "std        0.828066     0.435866      1.765298     0.762238    0.819232\n",
       "min        4.300000     2.000000      1.000000     0.100000    0.000000\n",
       "25%        5.100000     2.800000      1.600000     0.300000    0.000000\n",
       "50%        5.800000     3.000000      4.350000     1.300000    1.000000\n",
       "75%        6.400000     3.300000      5.100000     1.800000    2.000000\n",
       "max        7.900000     4.400000      6.900000     2.500000    2.000000"
      ]
     },
     "metadata": {},
     "output_type": "display_data"
    }
   ],
   "source": [
    "# Show class distribution and feature statistics\n",
    "display(df['variety'].value_counts())\n",
    "display(df.describe())"
   ]
  },
  {
   "cell_type": "code",
   "execution_count": 76,
   "id": "923e89de",
   "metadata": {},
   "outputs": [],
   "source": [
    "# Train Test Split: Set X and y\n",
    "X = df.drop('variety', axis=1) # Features (all columns except 'variety')\n",
    "y = df['variety'] # Target variable (the 'variety' column)"
   ]
  },
  {
   "cell_type": "code",
   "execution_count": 77,
   "id": "e511be6e",
   "metadata": {},
   "outputs": [],
   "source": [
    "# Convert these to numpy arrays\n",
    "X = X.to_numpy()\n",
    "y = y.to_numpy()"
   ]
  },
  {
   "cell_type": "code",
   "execution_count": 78,
   "id": "b632f213",
   "metadata": {},
   "outputs": [],
   "source": [
    "from sklearn.model_selection import train_test_split"
   ]
  },
  {
   "cell_type": "code",
   "execution_count": 79,
   "id": "274660b6",
   "metadata": {},
   "outputs": [],
   "source": [
    "# Train Test Split: Split the data into training and testing sets\n",
    "X_train, X_test, y_train, y_test = train_test_split(X, y, test_size=0.2, random_state=42)"
   ]
  },
  {
   "cell_type": "code",
   "execution_count": 80,
   "id": "ab3fe477",
   "metadata": {},
   "outputs": [],
   "source": [
    "# Convert X features to float tensors\n",
    "X_train = torch.FloatTensor(X_train)\n",
    "X_test = torch.FloatTensor(X_test)"
   ]
  },
  {
   "cell_type": "code",
   "execution_count": 81,
   "id": "2dbf3f60",
   "metadata": {},
   "outputs": [],
   "source": [
    "# Convert y labels to long tensors\n",
    "y_train = torch.LongTensor(y_train)\n",
    "y_test = torch.LongTensor(y_test)"
   ]
  },
  {
   "cell_type": "code",
   "execution_count": 82,
   "id": "dd79092a",
   "metadata": {},
   "outputs": [],
   "source": [
    "# Set the criterion of the model to measure the error, how far off the predictions are\n",
    "criterion = nn.CrossEntropyLoss()\n",
    "\n",
    "# Choose an optimizer to update the weights of the model\n",
    "# (If error doesnt go down after a bunch of interations i.e. epochs, try changing the learning rate lower)\n",
    "optimizer = torch.optim.Adam(model.parameters(), lr=0.01)"
   ]
  },
  {
   "cell_type": "markdown",
   "id": "53a7497d",
   "metadata": {},
   "source": [
    "## Training the Model\n",
    "\n",
    "We train the model using cross-entropy loss and the Adam optimizer. The training loop updates the model's weights to minimize the loss."
   ]
  },
  {
   "cell_type": "code",
   "execution_count": 83,
   "id": "77bc1bfd",
   "metadata": {},
   "outputs": [
    {
     "name": "stdout",
     "output_type": "stream",
     "text": [
      "Epoch [10/100], Loss: 1.0494\n",
      "Epoch [20/100], Loss: 0.9202\n",
      "Epoch [30/100], Loss: 0.7714\n",
      "Epoch [40/100], Loss: 0.6877\n",
      "Epoch [50/100], Loss: 0.6284\n",
      "Epoch [60/100], Loss: 0.5507\n",
      "Epoch [70/100], Loss: 0.4316\n",
      "Epoch [80/100], Loss: 0.2922\n",
      "Epoch [90/100], Loss: 0.2027\n",
      "Epoch [100/100], Loss: 0.1627\n"
     ]
    }
   ],
   "source": [
    "# Train the model\n",
    "num_epochs = 100  # Number of epochs to train the model (epoch is one full pass through the dataset)\n",
    "losses = []  # List to store loss values for each epoch\n",
    "\n",
    "# Loop through the number of epochs\n",
    "for epoch in range(num_epochs):\n",
    "\n",
    "    # Forward pass: Compute predicted y by passing x to the model\n",
    "    y_pred = model.forward(X_train)\n",
    "\n",
    "    # Compute the loss\n",
    "    loss = criterion(y_pred, y_train) # Calculate the error between predicted and actual labels\n",
    "\n",
    "    # Keep track of the loss value\n",
    "    losses.append(loss.detach().numpy())  # Detach the loss from the computation graph and convert to numpy\n",
    "\n",
    "    # Print the loss every 100 epochs\n",
    "    if (epoch+1) % 10 == 0:\n",
    "        print(f'Epoch [{epoch+1}/{num_epochs}], Loss: {loss.item():.4f}')\n",
    "\n",
    "    # Back propagation: Compute gradients of the loss with respect to model parameters\n",
    "    # Take the error rate of forward pass and calculate the gradients\n",
    "    optimizer.zero_grad()  # Zero the gradients before the backward pass\n",
    "    loss.backward()  # Backward pass: Compute gradients\n",
    "    optimizer.step()  # Update the model parameters using the optimizer"
   ]
  },
  {
   "cell_type": "code",
   "execution_count": 84,
   "id": "f7c6c854",
   "metadata": {},
   "outputs": [
    {
     "data": {
      "image/png": "[encoded data removed]",
      "text/plain": [
       "<Figure size 640x480 with 1 Axes>"
      ]
     },
     "metadata": {},
     "output_type": "display_data"
    }
   ],
   "source": [
    "# Graph the loss values\n",
    "plt.plot(range(num_epochs), losses)\n",
    "plt.xlabel('Epochs')\n",
    "plt.ylabel('Loss')\n",
    "plt.title('Loss vs Epochs')\n",
    "plt.show()"
   ]
  },
  {
   "cell_type": "markdown",
   "id": "fcde2d97",
   "metadata": {},
   "source": [
    "## Visualizing Training Loss\n",
    "\n",
    "Plotting the loss over epochs helps us see if the model is learning and if the loss is decreasing as expected."
   ]
  },
  {
   "cell_type": "code",
   "execution_count": 85,
   "id": "b74f6738",
   "metadata": {},
   "outputs": [
    {
     "name": "stdout",
     "output_type": "stream",
     "text": [
      "Test Loss: 0.1734\n"
     ]
    }
   ],
   "source": [
    "# Evaluate the model on the test set (validate model on the test set)\n",
    "with torch.no_grad():  # Disable gradient calculation for evaluation\n",
    "    y_eval = model.forward(X_test)  # Forward pass on the test set\n",
    "    loss_eval = criterion(y_eval, y_test)  # Calculate the loss on the test set\n",
    "    print(f'Test Loss: {loss_eval.item():.4f}')  # Print the test loss"
   ]
  },
  {
   "cell_type": "markdown",
   "id": "08e40d68",
   "metadata": {},
   "source": [
    "## Model Evaluation\n",
    "\n",
    "We evaluate the model on the test set using loss and accuracy. For a deeper understanding, we can also use a confusion matrix and classification report."
   ]
  },
  {
   "cell_type": "code",
   "execution_count": 87,
   "id": "a830c5e2",
   "metadata": {},
   "outputs": [
    {
     "name": "stdout",
     "output_type": "stream",
     "text": [
      "1.) tensor([-4.7079,  2.3740, -0.8144]) \t tensor(1) \t 1\n",
      "2.) tensor([ 1.0010, -0.8339, -0.9507]) \t tensor(0) \t 0\n",
      "3.) tensor([-18.7165,  -2.6005,   7.9112]) \t tensor(2) \t 2\n",
      "4.) tensor([-5.0069,  2.1319, -0.5323]) \t tensor(1) \t 1\n",
      "5.) tensor([-5.1730,  2.6346, -0.8021]) \t tensor(1) \t 1\n",
      "6.) tensor([ 1.0010, -0.8339, -0.9507]) \t tensor(0) \t 0\n",
      "7.) tensor([-2.3807,  2.1385, -1.5984]) \t tensor(1) \t 1\n",
      "8.) tensor([-9.9094,  0.6423,  2.3574]) \t tensor(2) \t 2\n",
      "9.) tensor([-7.4864,  1.0895,  1.1073]) \t tensor(1) \t 2\n",
      "10.) tensor([-2.7857,  2.4944, -1.6760]) \t tensor(1) \t 1\n",
      "11.) tensor([-8.5797,  0.9966,  1.6050]) \t tensor(2) \t 2\n",
      "12.) tensor([ 1.0010, -0.8339, -0.9507]) \t tensor(0) \t 0\n",
      "13.) tensor([ 1.0010, -0.8339, -0.9507]) \t tensor(0) \t 0\n",
      "14.) tensor([ 1.0010, -0.8339, -0.9507]) \t tensor(0) \t 0\n",
      "15.) tensor([ 1.0010, -0.8339, -0.9507]) \t tensor(0) \t 0\n",
      "16.) tensor([-4.4661,  2.6437, -1.0741]) \t tensor(1) \t 1\n",
      "17.) tensor([-13.6314,  -1.1790,   4.9951]) \t tensor(2) \t 2\n",
      "18.) tensor([-2.8170,  2.5219, -1.6820]) \t tensor(1) \t 1\n",
      "19.) tensor([-4.8323,  2.0131, -0.5264]) \t tensor(1) \t 1\n",
      "20.) tensor([-13.5968,  -1.2876,   5.0523]) \t tensor(2) \t 2\n",
      "21.) tensor([ 1.0010, -0.8339, -0.9507]) \t tensor(0) \t 0\n",
      "22.) tensor([-7.9656,  0.9578,  1.3885]) \t tensor(2) \t 2\n",
      "23.) tensor([ 1.0010, -0.8339, -0.9507]) \t tensor(0) \t 0\n",
      "24.) tensor([-13.1471,  -1.0717,   4.7327]) \t tensor(2) \t 2\n",
      "25.) tensor([-10.5099,   1.3723,   2.1033]) \t tensor(2) \t 2\n",
      "26.) tensor([-1.1100e+01, -7.4845e-03,  3.2437e+00]) \t tensor(2) \t 2\n",
      "27.) tensor([-13.3287,  -0.9354,   4.7052]) \t tensor(2) \t 2\n",
      "28.) tensor([-13.5549,  -0.8835,   4.7691]) \t tensor(2) \t 2\n",
      "29.) tensor([ 1.0010, -0.8339, -0.9507]) \t tensor(0) \t 0\n",
      "30.) tensor([ 1.0010, -0.8339, -0.9507]) \t tensor(0) \t 0\n",
      "Accuracy: 96.67%\n"
     ]
    }
   ],
   "source": [
    "correct = 0\n",
    "with torch.no_grad():  # Disable gradient calculation for evaluation\n",
    "    for i, data in enumerate(X_test):\n",
    "        # Forward pass: Compute predicted y by passing x to the model\n",
    "        y_val = model.forward(data)\n",
    "\n",
    "        # Will tell us what type of flower class the model predicts\n",
    "        print(f'{i+1}.) {str(y_val)} \\t {str(y_test[i])} \\t {y_val.argmax().item()}')\n",
    "\n",
    "        # Correct or not\n",
    "        if y_val.argmax().item() == y_test[i].item():\n",
    "            correct += 1\n",
    "print(f'Accuracy: {correct/len(X_test) * 100:.2f}%')  # Print the accuracy of the model"
   ]
  },
  {
   "cell_type": "code",
   "execution_count": 104,
   "id": "c58d47db",
   "metadata": {},
   "outputs": [
    {
     "data": {
      "image/png": "[encoded data removed]",
      "text/plain": [
       "<Figure size 640x480 with 2 Axes>"
      ]
     },
     "metadata": {},
     "output_type": "display_data"
    },
    {
     "name": "stdout",
     "output_type": "stream",
     "text": [
      "              precision    recall  f1-score   support\n",
      "\n",
      "      Setosa       1.00      1.00      1.00        10\n",
      "  Versicolor       1.00      0.89      0.94         9\n",
      "   Virginica       0.92      1.00      0.96        11\n",
      "\n",
      "    accuracy                           0.97        30\n",
      "   macro avg       0.97      0.96      0.97        30\n",
      "weighted avg       0.97      0.97      0.97        30\n",
      "\n"
     ]
    }
   ],
   "source": [
    "from sklearn.metrics import confusion_matrix, classification_report\n",
    "import seaborn as sns\n",
    "\n",
    "# Get predictions for the test set\n",
    "with torch.no_grad():\n",
    "    y_pred_probs = model.forward(X_test)\n",
    "    y_pred_labels = y_pred_probs.argmax(dim=1)\n",
    "\n",
    "# Confusion matrix\n",
    "cm = confusion_matrix(y_test, y_pred_labels)\n",
    "sns.heatmap(cm, annot=True, fmt='d', cmap='Blues', xticklabels=['Setosa', 'Versicolor', 'Virginica'], yticklabels=['Setosa', 'Versicolor', 'Virginica'])\n",
    "plt.xlabel('Predicted')\n",
    "plt.ylabel('True')\n",
    "plt.title('Confusion Matrix')\n",
    "plt.show()\n",
    "\n",
    "# Classification report\n",
    "print(classification_report(y_test, y_pred_labels, target_names=['Setosa', 'Versicolor', 'Virginica']))"
   ]
  },
  {
   "cell_type": "code",
   "execution_count": 93,
   "id": "2e6a1de1",
   "metadata": {},
   "outputs": [],
   "source": [
    "new_iris = torch.tensor([[6.7, 3.0, 5.2, 2.3]])  # Example new iris flower data"
   ]
  },
  {
   "cell_type": "markdown",
   "id": "d46c5140",
   "metadata": {},
   "source": [
    "## Making Predictions on New Data\n",
    "\n",
    "You can use the trained model to predict the class of new iris flower measurements. Enter your own values to see the prediction."
   ]
  },
  {
   "cell_type": "code",
   "execution_count": 95,
   "id": "c141e34a",
   "metadata": {},
   "outputs": [
    {
     "name": "stdout",
     "output_type": "stream",
     "text": [
      "New Iris Flower Prediction: 2\n"
     ]
    }
   ],
   "source": [
    "with torch.no_grad():  # Disable gradient calculation for evaluation\n",
    "    print(f'New Iris Flower Prediction: {model.forward(new_iris).argmax().item()}')  # Predict the class of the new iris flower\n",
    "# The output will be 0, 1, or 2 corresponding to Setosa, Versicolor, or Virginica\n",
    "# You can change the values in new_iris to test with different flower measurements"
   ]
  },
  {
   "cell_type": "code",
   "execution_count": 98,
   "id": "c063d9a9",
   "metadata": {},
   "outputs": [
    {
     "name": "stdout",
     "output_type": "stream",
     "text": [
      "Model saved to models/iris_model.pth\n"
     ]
    }
   ],
   "source": [
    "## Save the NN model\n",
    "import os\n",
    "os.makedirs('models', exist_ok=True)  # Ensure 'models' directory exists\n",
    "torch.save(model.state_dict(), 'models/iris_model.pth')  # Save the model's state\n",
    "print(\"Model saved to models/iris_model.pth\")  # Confirmation message"
   ]
  },
  {
   "cell_type": "markdown",
   "id": "a22d4a8d",
   "metadata": {},
   "source": [
    "## Saving and Loading the Model\n",
    "\n",
    "You can save the trained model's weights to disk and load them later for inference or further training."
   ]
  },
  {
   "cell_type": "code",
   "execution_count": 99,
   "id": "aab15f92",
   "metadata": {},
   "outputs": [
    {
     "data": {
      "text/plain": [
       "<All keys matched successfully>"
      ]
     },
     "execution_count": 99,
     "metadata": {},
     "output_type": "execute_result"
    }
   ],
   "source": [
    "# Load the model\n",
    "loaded_model = Model()  # Create a new instance of the model\n",
    "loaded_model.load_state_dict(torch.load('models/iris_model.pth'))  # Load the saved state into the model"
   ]
  },
  {
   "cell_type": "code",
   "execution_count": 100,
   "id": "a06f5bac",
   "metadata": {},
   "outputs": [
    {
     "data": {
      "text/plain": [
       "Model(\n",
       "  (fc1): Linear(in_features=4, out_features=10, bias=True)\n",
       "  (fc2): Linear(in_features=10, out_features=5, bias=True)\n",
       "  (output): Linear(in_features=5, out_features=3, bias=True)\n",
       ")"
      ]
     },
     "execution_count": 100,
     "metadata": {},
     "output_type": "execute_result"
    }
   ],
   "source": [
    "# Make sure the loaded model works\n",
    "loaded_model.eval()  # Set the model to evaluation mode"
   ]
  },
  {
   "cell_type": "markdown",
   "id": "65d44fe5",
   "metadata": {},
   "source": [
    "# Summary\n",
    "\n",
    "- Built and trained a simple neural network for iris flower classification using PyTorch.\n",
    "- Explored data preprocessing, model architecture, training, evaluation, and model persistence.\n",
    "- Next steps: try tuning hyperparameters, adding regularization, or experimenting with different architectures!"
   ]
  }
 ],
 "metadata": {
  "kernelspec": {
   "display_name": "pytorch",
   "language": "python",
   "name": "python3"
  },
  "language_info": {
   "codemirror_mode": {
    "name": "ipython",
    "version": 3
   },
   "file_extension": ".py",
   "mimetype": "text/x-python",
   "name": "python",
   "nbconvert_exporter": "python",
   "pygments_lexer": "ipython3",
   "version": "3.10.18"
  }
 },
 "nbformat": 4,
 "nbformat_minor": 5
}
