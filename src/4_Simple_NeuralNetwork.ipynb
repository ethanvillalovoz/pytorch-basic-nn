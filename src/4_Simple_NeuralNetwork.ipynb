{
 "cells": [
  {
   "cell_type": "code",
   "execution_count": 5,
   "id": "90f9e08e",
   "metadata": {},
   "outputs": [],
   "source": [
    "import torch\n",
    "import torch.nn as nn\n",
    "import torch.nn.functional as F"
   ]
  },
  {
   "cell_type": "code",
   "execution_count": 6,
   "id": "b68f740b",
   "metadata": {},
   "outputs": [],
   "source": [
    "# Create a Model class that inherits from nn.Module\n",
    "class Model(nn.Module):\n",
    "    # Input layer (4 features of the iris dataset) -> \n",
    "    # Hidden layer1 (10 neurons) ->\n",
    "    # Hidden layer2 (5 neurons) -> \n",
    "    # Output layer (3 classes)\n",
    "    def __init__(self, input_size=4, hidden_size1=10, hidden_size2=5, output_size=3):\n",
    "        super(Model, self).__init__() # Initialize the parent class\n",
    "\n",
    "        # Define the layers of the neural network\n",
    "\n",
    "        # Input layer to first hidden layer\n",
    "        self.fc1 = nn.Linear(input_size, hidden_size1)\n",
    "\n",
    "        # First hidden layer to second hidden layer\n",
    "        self.fc2 = nn.Linear(hidden_size1, hidden_size2)\n",
    "\n",
    "        # Second hidden layer to output layer\n",
    "        self.output = nn.Linear(hidden_size2, output_size)\n",
    "\n",
    "    def forward(self, x):\n",
    "        # Apply ReLU activation function to the first hidden layer\n",
    "        x = F.relu(self.fc1(x))\n",
    "\n",
    "        # Apply ReLU activation function to the second hidden layer\n",
    "        x = F.relu(self.fc2(x))\n",
    "        \n",
    "        # Output layer (no activation function applied)\n",
    "        x = self.output(x)\n",
    "\n",
    "        return x"
   ]
  },
  {
   "cell_type": "code",
   "execution_count": 7,
   "id": "502ed1a7",
   "metadata": {},
   "outputs": [],
   "source": [
    "# Pick a random seed for reproducibility\n",
    "torch.manual_seed(42)\n",
    "# Create an instance of the Model\n",
    "model = Model()"
   ]
  }
 ],
 "metadata": {
  "kernelspec": {
   "display_name": "pytorch",
   "language": "python",
   "name": "python3"
  },
  "language_info": {
   "codemirror_mode": {
    "name": "ipython",
    "version": 3
   },
   "file_extension": ".py",
   "mimetype": "text/x-python",
   "name": "python",
   "nbconvert_exporter": "python",
   "pygments_lexer": "ipython3",
   "version": "3.10.18"
  }
 },
 "nbformat": 4,
 "nbformat_minor": 5
}
