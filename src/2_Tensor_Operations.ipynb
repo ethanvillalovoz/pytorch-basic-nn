{
 "cells": [
  {
   "cell_type": "markdown",
   "id": "aeb966dd",
   "metadata": {},
   "source": [
    "# Tensor Operations in PyTorch\n",
    "\n",
    "This notebook covers essential tensor operations in PyTorch, including reshaping, slicing, and viewing. Mastering these operations is crucial for data preprocessing and building neural networks."
   ]
  },
  {
   "cell_type": "code",
   "execution_count": 1,
   "id": "29f58fa0",
   "metadata": {},
   "outputs": [],
   "source": [
    "import torch"
   ]
  },
  {
   "cell_type": "code",
   "execution_count": 20,
   "id": "eaef1980",
   "metadata": {},
   "outputs": [
    {
     "name": "stdout",
     "output_type": "stream",
     "text": [
      "tensor([0, 1, 2, 3, 4, 5, 6, 7, 8, 9])\n"
     ]
    }
   ],
   "source": [
    "my_torch = torch.arange(10)\n",
    "print(my_torch)"
   ]
  },
  {
   "cell_type": "code",
   "execution_count": 5,
   "id": "e51ce030",
   "metadata": {},
   "outputs": [
    {
     "name": "stdout",
     "output_type": "stream",
     "text": [
      "tensor([[0, 1, 2, 3, 4],\n",
      "        [5, 6, 7, 8, 9]])\n"
     ]
    }
   ],
   "source": [
    "# Reshape the tensor\n",
    "reshaped_torch = my_torch.reshape(2,5)\n",
    "print(reshaped_torch)"
   ]
  },
  {
   "cell_type": "code",
   "execution_count": 6,
   "id": "a9b201f2",
   "metadata": {},
   "outputs": [
    {
     "data": {
      "text/plain": [
       "tensor([ 0,  1,  2,  3,  4,  5,  6,  7,  8,  9, 10, 11, 12, 13, 14])"
      ]
     },
     "execution_count": 6,
     "metadata": {},
     "output_type": "execute_result"
    }
   ],
   "source": [
    "# Reshape the tensor if we don't know the number of items using -1\n",
    "my_torch2 = torch.arange(15)\n",
    "my_torch2"
   ]
  },
  {
   "cell_type": "code",
   "execution_count": 7,
   "id": "ceb70df1",
   "metadata": {},
   "outputs": [
    {
     "name": "stdout",
     "output_type": "stream",
     "text": [
      "tensor([[ 0,  1,  2,  3,  4],\n",
      "        [ 5,  6,  7,  8,  9],\n",
      "        [10, 11, 12, 13, 14]])\n"
     ]
    }
   ],
   "source": [
    "my_torch2 = my_torch2.reshape(3, -1)\n",
    "print(my_torch2)"
   ]
  },
  {
   "cell_type": "code",
   "execution_count": 8,
   "id": "7130ccab",
   "metadata": {},
   "outputs": [
    {
     "data": {
      "text/plain": [
       "tensor([ 0,  1,  2,  3,  4,  5,  6,  7,  8,  9, 10, 11, 12, 13, 14])"
      ]
     },
     "execution_count": 8,
     "metadata": {},
     "output_type": "execute_result"
    }
   ],
   "source": [
    "my_torch3 = torch.arange(15)\n",
    "my_torch3"
   ]
  },
  {
   "cell_type": "code",
   "execution_count": 9,
   "id": "e5fb00a8",
   "metadata": {},
   "outputs": [
    {
     "name": "stdout",
     "output_type": "stream",
     "text": [
      "tensor([[ 0,  1,  2,  3,  4],\n",
      "        [ 5,  6,  7,  8,  9],\n",
      "        [10, 11, 12, 13, 14]])\n"
     ]
    }
   ],
   "source": [
    "my_torch3 = my_torch3.view(3, -1)\n",
    "print(my_torch3)"
   ]
  },
  {
   "cell_type": "markdown",
   "id": "a8531d49",
   "metadata": {},
   "source": [
    "## Summary: `reshape` vs `view`\n",
    "\n",
    "| Operation | Description | When to Use |\n",
    "|-----------|-------------|-------------|\n",
    "| `reshape` | Returns a tensor with a new shape, can handle non-contiguous tensors by copying data if needed | Use when unsure about contiguity or want flexibility |\n",
    "| `view`    | Returns a tensor with a new shape, but only works on contiguous tensors (no data copy) | Use for efficiency when tensor is contiguous |\n",
    "\n",
    "> Tip: Use `.is_contiguous()` to check if a tensor is contiguous."
   ]
  },
  {
   "cell_type": "code",
   "execution_count": 10,
   "id": "e2e1f181",
   "metadata": {},
   "outputs": [
    {
     "name": "stdout",
     "output_type": "stream",
     "text": [
      "tensor([0, 1, 2, 3, 4, 5, 6, 7, 8, 9])\n"
     ]
    }
   ],
   "source": [
    "# With reshape and view they will update\n",
    "my_torch4 = torch.arange(10)\n",
    "print(my_torch4)"
   ]
  },
  {
   "cell_type": "code",
   "execution_count": 11,
   "id": "04224aa6",
   "metadata": {},
   "outputs": [
    {
     "name": "stdout",
     "output_type": "stream",
     "text": [
      "tensor([[0, 1, 2, 3, 4],\n",
      "        [5, 6, 7, 8, 9]])\n"
     ]
    }
   ],
   "source": [
    "my_torch5 = my_torch4.reshape(2, 5)\n",
    "print(my_torch5)"
   ]
  },
  {
   "cell_type": "code",
   "execution_count": 12,
   "id": "485cf4f4",
   "metadata": {},
   "outputs": [
    {
     "name": "stdout",
     "output_type": "stream",
     "text": [
      "tensor([  0, 100,   2,   3,   4,   5,   6,   7,   8,   9])\n"
     ]
    }
   ],
   "source": [
    "my_torch4[1] = 100\n",
    "print(my_torch4)"
   ]
  },
  {
   "cell_type": "code",
   "execution_count": 13,
   "id": "b6483fa8",
   "metadata": {},
   "outputs": [
    {
     "data": {
      "text/plain": [
       "tensor([[  0, 100,   2,   3,   4],\n",
       "        [  5,   6,   7,   8,   9]])"
      ]
     },
     "execution_count": 13,
     "metadata": {},
     "output_type": "execute_result"
    }
   ],
   "source": [
    "my_torch5"
   ]
  },
  {
   "cell_type": "code",
   "execution_count": 14,
   "id": "96eab644",
   "metadata": {},
   "outputs": [
    {
     "name": "stdout",
     "output_type": "stream",
     "text": [
      "tensor([0, 1, 2, 3, 4, 5, 6, 7, 8, 9])\n"
     ]
    }
   ],
   "source": [
    "# Slices \n",
    "my_torch6 = torch.arange(10)\n",
    "print(my_torch6)"
   ]
  },
  {
   "cell_type": "code",
   "execution_count": 15,
   "id": "65c76227",
   "metadata": {},
   "outputs": [
    {
     "data": {
      "text/plain": [
       "tensor(7)"
      ]
     },
     "execution_count": 15,
     "metadata": {},
     "output_type": "execute_result"
    }
   ],
   "source": [
    "# Grab a specific item\n",
    "my_torch6[7]"
   ]
  },
  {
   "cell_type": "code",
   "execution_count": 16,
   "id": "bcc06476",
   "metadata": {},
   "outputs": [
    {
     "name": "stdout",
     "output_type": "stream",
     "text": [
      "tensor([[0, 1, 2, 3, 4],\n",
      "        [5, 6, 7, 8, 9]])\n"
     ]
    }
   ],
   "source": [
    "# Grab slice\n",
    "my_torch7 = my_torch6.reshape(2, 5)\n",
    "print(my_torch7)"
   ]
  },
  {
   "cell_type": "code",
   "execution_count": 17,
   "id": "cc251c64",
   "metadata": {},
   "outputs": [
    {
     "data": {
      "text/plain": [
       "tensor([1, 6])"
      ]
     },
     "execution_count": 17,
     "metadata": {},
     "output_type": "execute_result"
    }
   ],
   "source": [
    "my_torch7[:, 1]  # Grab all rows, column 1"
   ]
  },
  {
   "cell_type": "code",
   "execution_count": 18,
   "id": "53440d9e",
   "metadata": {},
   "outputs": [
    {
     "data": {
      "text/plain": [
       "tensor([[1, 2, 3, 4],\n",
       "        [6, 7, 8, 9]])"
      ]
     },
     "execution_count": 18,
     "metadata": {},
     "output_type": "execute_result"
    }
   ],
   "source": [
    "# Return a column\n",
    "my_torch7[:, 1:]  # Grab all rows from column 1 to the end"
   ]
  },
  {
   "cell_type": "markdown",
   "id": "41051c4f",
   "metadata": {},
   "source": [
    "# Summary\n",
    "\n",
    "- You learned how to reshape, view, slice, and manipulate tensors in PyTorch.\n",
    "- Mastering these operations is essential for effective data handling and model building in PyTorch."
   ]
  }
 ],
 "metadata": {
  "kernelspec": {
   "display_name": "pytorch",
   "language": "python",
   "name": "python3"
  },
  "language_info": {
   "codemirror_mode": {
    "name": "ipython",
    "version": 3
   },
   "file_extension": ".py",
   "mimetype": "text/x-python",
   "name": "python",
   "nbconvert_exporter": "python",
   "pygments_lexer": "ipython3",
   "version": "3.10.18"
  }
 },
 "nbformat": 4,
 "nbformat_minor": 5
}
